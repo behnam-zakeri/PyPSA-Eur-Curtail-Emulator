{
 "cells": [
  {
   "cell_type": "code",
   "execution_count": 1,
   "id": "27ecf6a2-336b-42e8-ab45-8419c6bef7ff",
   "metadata": {
    "tags": []
   },
   "outputs": [
    {
     "data": {
      "application/javascript": "if (typeof IPython !== 'undefined') { IPython.OutputArea.prototype._should_scroll = function(lines){ return false; }}",
      "text/plain": [
       "<IPython.core.display.Javascript object>"
      ]
     },
     "metadata": {},
     "output_type": "display_data"
    }
   ],
   "source": [
    "# 1) Import required packages and specify scenario\n",
    "import message_ix\n",
    "import ixmp as ix\n",
    "from itertools import product\n",
    "from timeit import default_timer as timer\n",
    "import pandas as pd\n",
    "import numpy as np\n",
    "import warnings\n",
    "warnings.filterwarnings('ignore')\n",
    "\n",
    "import matplotlib.pyplot as plt\n",
    "fs = 24\n",
    "plt.style.use('seaborn-ticks')\n",
    "plt.rcParams['axes.labelsize'] = fs\n",
    "plt.rcParams['xtick.labelsize'] = fs\n",
    "plt.rcParams['ytick.labelsize'] = fs\n",
    "plt.rcParams['xtick.direction'] = 'out'\n",
    "plt.rcParams['ytick.direction'] = 'out'\n",
    "plt.rcParams['axes.axisbelow'] = True\n"
   ]
  },
  {
   "cell_type": "markdown",
   "id": "d33d18ee-7350-4648-9055-f9066fd22df2",
   "metadata": {},
   "source": [
    "### Step 0) fetch curtailment parameters"
   ]
  },
  {
   "cell_type": "code",
   "execution_count": 2,
   "id": "fd545968-12e5-45d8-8ae5-c986e4cfc3ff",
   "metadata": {
    "tags": []
   },
   "outputs": [],
   "source": [
    "# 0.1) Read .csv files as dataframes\n",
    "\n",
    "# gamma coefficients\n",
    "path = \"\"\n",
    "gamma_ij_wind = pd.read_csv(path + \"gamma_ij_wind.csv\",index_col=0).dropna()\n",
    "gamma_ij_solar = pd.read_csv(path + \"gamma_ij_solar.csv\",index_col=0).dropna()\n",
    "\n",
    "# beta coefficients\n",
    "techs = [\"LDES\",\"SDES\"] # technologies included in curtailment relations\n",
    "beta_tech_wind = {}\n",
    "beta_tech_solar = {}\n",
    "for tech in techs:\n",
    "    beta_tech_wind[tech] = pd.read_csv(path + \"beta_\"+tech+\"_wind.csv\",index_col=0).dropna()\n",
    "    beta_tech_solar[tech] = pd.read_csv(path + \"beta_\"+tech+\"_wind.csv\",index_col=0).dropna()\n",
    "\n",
    "# renewable shares\n",
    "wind_shares_pypsa = pd.read_csv(path + \"wind_shares.csv\",index_col=0).loc[gamma_ij_wind.index]\n",
    "solar_shares_pypsa = pd.read_csv(path + \"solar_shares.csv\",index_col=0).loc[gamma_ij_solar.index]\n",
    "# NB! In building these \"marginal curtailment matrices\", we have (for now) assumed that the case with wind penetration with 10 % solar corresponds to the case with 0 solar. \n",
    "# It is not expected to have large impact, but can always be finetuned by running a pure wind scenario in PyPSA-Eur.\n",
    "\n",
    "# 0.2) Create dictionary that represents the 2D vre penetration matrix\n",
    "\n",
    "# convert dataframes into dictionaries\n",
    "solar_curt_pypsa_dict = gamma_ij_solar.to_dict()[\"0\"]\n",
    "wind_curt_pypsa_dict = gamma_ij_wind.to_dict()[\"0\"]\n",
    "solar_curt_pypsa_dict.update(wind_curt_pypsa_dict)\n",
    "\n",
    "curt_pypsa_dict = solar_curt_pypsa_dict.copy()\n",
    "\n",
    "wind_share_pypsa_dict = wind_shares_pypsa.to_dict()[\"0\"]\n",
    "solar_share_pypsa_dict = solar_shares_pypsa.to_dict()[\"0\"]\n",
    "solar_share_pypsa_dict.update(wind_share_pypsa_dict)\n",
    "\n",
    "vre_share_pypsa_dict = solar_share_pypsa_dict.copy()"
   ]
  },
  {
   "cell_type": "markdown",
   "id": "645c6ae4-1024-4d3d-aba8-43378007b86d",
   "metadata": {},
   "source": [
    "#####################################"
   ]
  },
  {
   "cell_type": "code",
   "execution_count": 3,
   "id": "4eed3be7-fe52-491c-a8ee-9b9b6d2a9678",
   "metadata": {
    "tags": []
   },
   "outputs": [],
   "source": [
    "# 0.2) Create dictionary that represents the 2D vre penetration matrix\n",
    "\n",
    "# number of bins (determined from the PyPSA-Eur data):\n",
    "no_bins = solar_shares_pypsa.index.str.split(\"_s\",expand=True).get_level_values(1).str.split(\"w\",expand=True).get_level_values(0).astype(int).max()\n",
    "\n",
    "# loop over rows (solar) and columns (wind) in the vre matrix\n",
    "vre_rel = {} # i = solar, j = wind\n",
    "rel_tech_new = {}\n",
    "for i in range(no_bins+2):\n",
    "    for j in range(no_bins+2):\n",
    "        s_pypsa_ind = \"solar_curtailment_s\" + str(i) + \"w\" + str(j) # index naming in the data achieved from PyPSA-Eur\n",
    "        w_pypsa_ind = \"wind_curtailment_w\" + str(j) + \"s\" + str(i) # index naming in the data achieved from PyPSA-Eur\n",
    "        \n",
    "        solar_curt_message = \"solar_curtailment\" + str(i) # naming of solar curtailment technology in MESSAGEix-GLOBIOM\n",
    "        wind_curt_message = \"wind_curtailment\" + str(j) # naming of wind curtailment technology in MESSAGEix-GLOBIOM\n",
    "        \n",
    "        if i == 0 and j == 0: # if 0,0 then VRE penetration is 0 which we can skip\n",
    "            continue\n",
    "            \n",
    "        # In some cases, the i,j combination will cause unrealistic scenarios, e.g., 90% wind + 90% solar. \n",
    "        # For this reason, we have defined a renewable cutoff of 130%. \n",
    "        elif (w_pypsa_ind not in gamma_ij_wind.index) and (s_pypsa_ind not in gamma_ij_solar.index): \n",
    "            continue\n",
    "        \n",
    "        # in the case of the first wind penetration bin:\n",
    "        elif j == 0 and i > 0: # j == 0 corresponds to the first wind penetration bin\n",
    "            vre_rel[\"vre_curtailment_w\" + str(j) + \"s\" + str(i)] = [{solar_curt_message:gamma_ij_solar.loc[s_pypsa_ind].item()}]\n",
    "            rel_tech_new[\"vre_curtailment_w\" + str(j) + \"s\" + str(i)] = \"vre_curtailmentw\" + str(j) + \"s\" + str(i)\n",
    "            \n",
    "        # in the case of 0 solar penetration:\n",
    "        elif i == 0 and j > 0: # i == 0 corresponds to the first solar penetration bin\n",
    "            vre_rel[\"vre_curtailment_w\" + str(j) + \"s\" + str(i)] = [{wind_curt_message:gamma_ij_wind.loc[w_pypsa_ind].item()}]  \n",
    "            rel_tech_new[\"vre_curtailment_w\" + str(j) + \"s\" + str(i)] = \"vre_curtailmentw\" + str(j) + \"s\" + str(i)\n",
    "            \n",
    "        # in the case of a combined wind-solar penetration:\n",
    "        else:\n",
    "            vre_rel[\"vre_curtailment_w\" + str(j) + \"s\" + str(i)] = [{wind_curt_message:gamma_ij_wind.loc[w_pypsa_ind].item(),\n",
    "                                                                     solar_curt_message:gamma_ij_solar.loc[s_pypsa_ind].item()}]\n",
    "            rel_tech_new[\"vre_curtailment_w\" + str(j) + \"s\" + str(i)] = \"vre_curtailmentw\" + str(j) + \"s\" + str(i)"
   ]
  },
  {
   "cell_type": "code",
   "execution_count": 4,
   "id": "ec30fcfa-cd4a-4922-a9cc-d2b3959d2b69",
   "metadata": {
    "tags": []
   },
   "outputs": [
    {
     "data": {
      "text/plain": [
       "{'vre_curtailment_w1s0': [{'wind_curtailment1': 0.0798}],\n",
       " 'vre_curtailment_w2s0': [{'wind_curtailment2': 0.0323}],\n",
       " 'vre_curtailment_w3s0': [{'wind_curtailment3': 0.1852}],\n",
       " 'vre_curtailment_w4s0': [{'wind_curtailment4': 0.196}],\n",
       " 'vre_curtailment_w5s0': [{'wind_curtailment5': 0.1704}],\n",
       " 'vre_curtailment_w6s0': [{'wind_curtailment6': 0.1301}],\n",
       " 'vre_curtailment_w0s1': [{'solar_curtailment1': 0.1585}],\n",
       " 'vre_curtailment_w1s1': [{'wind_curtailment1': 0.1515,\n",
       "   'solar_curtailment1': 0.2105}],\n",
       " 'vre_curtailment_w2s1': [{'wind_curtailment2': 0.0844,\n",
       "   'solar_curtailment1': 0.243}],\n",
       " 'vre_curtailment_w3s1': [{'wind_curtailment3': 0.2113,\n",
       "   'solar_curtailment1': 0.2771}],\n",
       " 'vre_curtailment_w4s1': [{'wind_curtailment4': 0.1375,\n",
       "   'solar_curtailment1': 0.307}],\n",
       " 'vre_curtailment_w5s1': [{'wind_curtailment5': 0.1551,\n",
       "   'solar_curtailment1': 0.3351}],\n",
       " 'vre_curtailment_w6s1': [{'wind_curtailment6': 0.102,\n",
       "   'solar_curtailment1': 0.3749}],\n",
       " 'vre_curtailment_w0s2': [{'solar_curtailment2': 0.4922}],\n",
       " 'vre_curtailment_w1s2': [{'wind_curtailment1': 0.1828,\n",
       "   'solar_curtailment2': 0.4966}],\n",
       " 'vre_curtailment_w2s2': [{'wind_curtailment2': 0.0693,\n",
       "   'solar_curtailment2': 0.506}],\n",
       " 'vre_curtailment_w3s2': [{'wind_curtailment3': 0.1927,\n",
       "   'solar_curtailment2': 0.5095}],\n",
       " 'vre_curtailment_w4s2': [{'wind_curtailment4': 0.1209,\n",
       "   'solar_curtailment2': 0.5221}],\n",
       " 'vre_curtailment_w5s2': [{'wind_curtailment5': 0.1746,\n",
       "   'solar_curtailment2': 0.5146}],\n",
       " 'vre_curtailment_w6s2': [{'wind_curtailment6': 0.1045,\n",
       "   'solar_curtailment2': 0.4997}],\n",
       " 'vre_curtailment_w0s3': [{'solar_curtailment3': 0.1951}],\n",
       " 'vre_curtailment_w1s3': [{'wind_curtailment1': 0.1912,\n",
       "   'solar_curtailment3': 0.1891}],\n",
       " 'vre_curtailment_w2s3': [{'wind_curtailment2': 0.0644,\n",
       "   'solar_curtailment3': 0.1708}],\n",
       " 'vre_curtailment_w3s3': [{'wind_curtailment3': 0.1862,\n",
       "   'solar_curtailment3': 0.1517}],\n",
       " 'vre_curtailment_w4s3': [{'wind_curtailment4': 0.1265,\n",
       "   'solar_curtailment3': 0.1254}],\n",
       " 'vre_curtailment_w5s3': [{'wind_curtailment5': 0.1592,\n",
       "   'solar_curtailment3': 0.1067}],\n",
       " 'vre_curtailment_w0s4': [{'solar_curtailment4': 0.0954}],\n",
       " 'vre_curtailment_w1s4': [{'wind_curtailment1': 0.1935,\n",
       "   'solar_curtailment4': 0.07}],\n",
       " 'vre_curtailment_w2s4': [{'wind_curtailment2': 0.0644,\n",
       "   'solar_curtailment4': 0.0498}],\n",
       " 'vre_curtailment_w3s4': [{'wind_curtailment3': 0.1863,\n",
       "   'solar_curtailment4': 0.0349}],\n",
       " 'vre_curtailment_w4s4': [{'wind_curtailment4': 0.1191,\n",
       "   'solar_curtailment4': 0.0261}],\n",
       " 'vre_curtailment_w5s4': [{'wind_curtailment5': 0.1646,\n",
       "   'solar_curtailment4': 0.0218}],\n",
       " 'vre_curtailment_w0s5': [{'solar_curtailment5': 0.0303}],\n",
       " 'vre_curtailment_w1s5': [{'wind_curtailment1': 0.1942,\n",
       "   'solar_curtailment5': 0.0133}],\n",
       " 'vre_curtailment_w2s5': [{'wind_curtailment2': 0.0647,\n",
       "   'solar_curtailment5': 0.0122}],\n",
       " 'vre_curtailment_w3s5': [{'wind_curtailment3': 0.1849,\n",
       "   'solar_curtailment5': 0.0123}],\n",
       " 'vre_curtailment_w4s5': [{'wind_curtailment4': 0.1205,\n",
       "   'solar_curtailment5': 0.0044}],\n",
       " 'vre_curtailment_w0s6': [{'solar_curtailment6': 0.0175}],\n",
       " 'vre_curtailment_w1s6': [{'wind_curtailment1': 0.1958,\n",
       "   'solar_curtailment6': 0.0089}],\n",
       " 'vre_curtailment_w2s6': [{'wind_curtailment2': 0.0673,\n",
       "   'solar_curtailment6': 0.0072}]}"
      ]
     },
     "execution_count": 4,
     "metadata": {},
     "output_type": "execute_result"
    }
   ],
   "source": [
    "vre_rel"
   ]
  },
  {
   "cell_type": "markdown",
   "id": "713ab932-f3bd-4463-b965-3b207d5e2714",
   "metadata": {
    "tags": []
   },
   "source": [
    "# Workflow by Behnam"
   ]
  },
  {
   "cell_type": "markdown",
   "id": "4ac3ac8b-3ae8-4fe1-a6b5-f0fb7757df50",
   "metadata": {},
   "source": [
    "# 1) Specify scenario"
   ]
  },
  {
   "cell_type": "code",
   "execution_count": 6,
   "id": "506c2a1e-c757-4191-bdd7-bfc2d0fb73dd",
   "metadata": {
    "tags": []
   },
   "outputs": [],
   "source": [
    "mp = ix.Platform('local',jvmargs=[\"-Xmx8G\"])\n",
    "sc_ref = message_ix.Scenario(mp, model=\"MESSAGEix-GLOBIOM\", scenario=\"ENGAGE_SSP2_EN_NPi2020_500\",version=1)"
   ]
  },
  {
   "cell_type": "code",
   "execution_count": 7,
   "id": "0ccaefdf-9cf1-4a81-9430-9d3d4a84a7f8",
   "metadata": {
    "tags": []
   },
   "outputs": [],
   "source": [
    "model = \"MESSAGEix-GLOBIOM\"\n",
    "scen = \"ENGAGE_SSP2_EN_NPi2020_500\"\n",
    "\n",
    "# Other input data\n",
    "solve_scenario = True     # if True, solving scenario at the end\n",
    "regions = [\"R11_WEU\"]\n",
    "\n",
    "# Configuring the electricity loss due to curtailment\n",
    "# True, keep the input electricity for wind and solar\n",
    "# False, remove them from wind and solar and add input for VRE\n",
    "keep_input_loss = False\n",
    "\n",
    "# Configuring the electricity loss due to curtailment for vre \n",
    "# True, keep the input electricity for vre\n",
    "# False, remove them from vre and add \"gamma\" coefficients to wind and solar\n",
    "include_vre_input_loss = False\n",
    "\n",
    "# Percentage share of wind/solar from load in new bins. We have 7 data points for wind and solar = 6 curtailment bins\n",
    "phi = {\n",
    "    'solar_curtailment_1': 0.1,\n",
    "    'solar_curtailment_2': 0.3,\n",
    "    'solar_curtailment_3': 0.4,\n",
    "    'solar_curtailment_4': 0.5,\n",
    "    'solar_curtailment_5': 0.6,\n",
    "    'solar_curtailment_6': 0.7,\n",
    "    'wind_curtailment_1': 0.1,\n",
    "    'wind_curtailment_2': 0.3,\n",
    "    'wind_curtailment_3': 0.4,\n",
    "    'wind_curtailment_4': 0.5,\n",
    "    'wind_curtailment_5': 0.6,\n",
    "    'wind_curtailment_6': 0.7,\n",
    "    }\n",
    "\n",
    "# Pair of relation/technology names for all bins\n",
    "rel_tech = {\n",
    "    'solar_curtailment_1': 'solar_curtailment1',\n",
    "    'solar_curtailment_2': 'solar_curtailment2',\n",
    "    'solar_curtailment_3': 'solar_curtailment3',\n",
    "    'solar_curtailment_4': 'solar_curtailment4',\n",
    "    'solar_curtailment_5': 'solar_curtailment5',\n",
    "    'solar_curtailment_6': 'solar_curtailment6',\n",
    "    'wind_curtailment_1': 'wind_curtailment1',\n",
    "    'wind_curtailment_2': 'wind_curtailment2',\n",
    "    'wind_curtailment_3': 'wind_curtailment3',\n",
    "    'wind_curtailment_4': 'wind_curtailment4',\n",
    "    'wind_curtailment_5': 'wind_curtailment5',\n",
    "    'wind_curtailment_6': 'wind_curtailment6',\n",
    "    }\n",
    "\n",
    "rel_tech.update(rel_tech_new) # include new technologies/relations for vre\n",
    "\n",
    "# this one is currently removed:\n",
    "input_electr = {\n",
    "    'vre_curtailment_01': 0.1,\n",
    "    'vre_curtailment_02': 0.15,\n",
    "    'vre_curtailment_03': 0.2,\n",
    "    'vre_curtailment_04': 0.25,\n",
    "    'vre_curtailment_10': 0.1,\n",
    "    'vre_curtailment_11': 0.15,\n",
    "    'vre_curtailment_12': 0.2,\n",
    "    'vre_curtailment_13': 0.25,\n",
    "    'vre_curtailment_14': 0.3,\n",
    "    'vre_curtailment_20': 0.15,\n",
    "    'vre_curtailment_21': 0.2,\n",
    "    'vre_curtailment_22': 0.25,\n",
    "    'vre_curtailment_23': 0.3,\n",
    "    'vre_curtailment_24': 0.35,\n",
    "    'vre_curtailment_30': 0.2,\n",
    "    'vre_curtailment_31': 0.25,\n",
    "    'vre_curtailment_32': 0.3,\n",
    "    'vre_curtailment_33': 0.35,\n",
    "    'vre_curtailment_34': 0.4,\n",
    "    'vre_curtailment_40': 0.25,\n",
    "    'vre_curtailment_41': 0.3,\n",
    "    'vre_curtailment_42': 0.35,\n",
    "    'vre_curtailment_43': 0.4,\n",
    "    'vre_curtailment_44': 0.45,\n",
    "    }\n",
    "\n",
    "# New VRE bins (matrix of 4 x 4 solar/wind bins), the first index for solar and the\n",
    "# second for wind\n",
    "# The combination of wind_0 and solar_0 is not needed (curtailment = 0)\n",
    "new_bins = vre_rel"
   ]
  },
  {
   "cell_type": "markdown",
   "id": "36ce564f-44c9-405b-a6f9-7b0bfa4a40ce",
   "metadata": {},
   "source": [
    "# 2) Clone scenario and add new curtailment technologies and relations"
   ]
  },
  {
   "cell_type": "code",
   "execution_count": 9,
   "id": "10319f26-8164-4650-907e-27c06911a391",
   "metadata": {
    "tags": []
   },
   "outputs": [],
   "source": [
    "# %% Clone and do the modifications\n",
    "sc = sc_ref.clone(model=model, scenario=scen, keep_solution=False)\n",
    "\n",
    "# Curtailment relations and technologies (for checking)\n",
    "curtail_relations = [x for x in set(sc.set(\"relation\")) if \"curtailment\" in x]\n",
    "curtail_techs = [x for x in set(sc.set(\"technology\")) if \"curtailment\" in x]\n",
    "\n",
    "start = timer()\n",
    "sc.check_out()\n",
    "\n",
    "# 2.1) Add wind/solar curtailment data for new bins (not present in the old data)\n",
    "new_relations = [x for x in phi.keys() if x not in set(sc.set(\"relation\"))]\n",
    "new_techs = [rel_tech[x] for x in new_relations]\n",
    "\n",
    "# Add new set elements to the scenario\n",
    "sc.add_set(\"technology\", new_techs) # here, new technologies only cover the ones for \"wind_curtailment_{}\" and \"solar_curtailment_{}\". The VRE relations will be added in step 4.\n",
    "sc.add_set(\"relation\", new_relations) # here, new relations only cover the ones for \"wind_curtailment_{}\" and \"solar_curtailment_{}\". The VRE relations will be added in step 4.\n"
   ]
  },
  {
   "cell_type": "code",
   "execution_count": 10,
   "id": "aeccc462-6fcd-4459-86b5-a3ec1ac58206",
   "metadata": {
    "tags": []
   },
   "outputs": [
    {
     "data": {
      "text/plain": [
       "['solar_curtailment4',\n",
       " 'solar_curtailment5',\n",
       " 'solar_curtailment6',\n",
       " 'wind_curtailment4',\n",
       " 'wind_curtailment5',\n",
       " 'wind_curtailment6']"
      ]
     },
     "execution_count": 10,
     "metadata": {},
     "output_type": "execute_result"
    }
   ],
   "source": [
    "new_techs"
   ]
  },
  {
   "cell_type": "code",
   "execution_count": 11,
   "id": "9d4f194f-61c7-4334-bea3-7ed3e58f7e4a",
   "metadata": {
    "tags": []
   },
   "outputs": [
    {
     "data": {
      "text/plain": [
       "['solar_curtailment_4',\n",
       " 'solar_curtailment_5',\n",
       " 'solar_curtailment_6',\n",
       " 'wind_curtailment_4',\n",
       " 'wind_curtailment_5',\n",
       " 'wind_curtailment_6']"
      ]
     },
     "execution_count": 11,
     "metadata": {},
     "output_type": "execute_result"
    }
   ],
   "source": [
    "new_relations"
   ]
  },
  {
   "cell_type": "markdown",
   "id": "37f07c91-78a5-4249-ac04-a37aee179963",
   "metadata": {},
   "source": [
    "# 3) Configure the data for new curtailment bins"
   ]
  },
  {
   "cell_type": "code",
   "execution_count": 12,
   "id": "5174edf1-8cd6-4275-a284-e613cba37d10",
   "metadata": {
    "tags": []
   },
   "outputs": [
    {
     "name": "stdout",
     "output_type": "stream",
     "text": [
      "- New theoretical curtailment relations configured.\n"
     ]
    }
   ],
   "source": [
    "# In this step, we only caluclate theoretical curtailment, i.e., we don't consider\n",
    "# the role of any curtailment reducing technologies (contributors) like storage etc.\n",
    "parname = \"relation_activity\"\n",
    "for rel, region in product(sorted(phi.keys()), regions):\n",
    "    # Load existing data (and use it later for configuring the new data)\n",
    "    old = sc_ref.par(parname, {\"node_loc\": region, \"relation\": rel})\n",
    "\n",
    "    # If there is no data for this bin, use the data of the previous bin\n",
    "    if old.empty:\n",
    "        rel_pre = (\"\").join(\n",
    "            [rel.split(\"_curt\")[0],\n",
    "             \"_curtailment_\",\n",
    "             str(int(rel.split(\"ment_\")[1]) - 1)]\n",
    "            )\n",
    "        old = sc_ref.par(parname, {\"node_loc\": region, \"relation\": rel_pre})\n",
    "\n",
    "        # Replace relation and technology names for this bin\n",
    "        curtail_tec = rel_tech[rel_pre]\n",
    "        old[\"relation\"] = rel\n",
    "        old.loc[old[\"technology\"] == curtail_tec, \"technology\"] = rel_tech[rel]\n",
    "\n",
    "    else:\n",
    "        curtail_tec = rel_tech[rel]\n",
    "    # Generate theoretical curtailment bins (with contributor technologies, but\n",
    "    # these will be removed at the end, see Step (5))\n",
    "    new = old.copy()\n",
    "    # Edit the % share of wind/solar bins (Notice (-) sign)\n",
    "    new.loc[new[\"technology\"] == \"elec_t_d\", \"value\"] = -phi[rel]\n",
    "\n",
    "    # 3.1) Add theoretical curtailment to the scenario\n",
    "    sc.add_par(parname, new)\n",
    "\n",
    "    # 3.2) Add an upper bound for the theoretical curtailment (needed for new bins)\n",
    "    bound = new.drop_duplicates([\"node_rel\", \"year_rel\", \"relation\"]).copy()\n",
    "    bound[\"value\"] = 0\n",
    "    sc.add_par(\"relation_upper\", bound)\n",
    "\n",
    "    # 3.3) Update the data of \"input\" electricity for this curtailment technology\n",
    "    if keep_input_loss:\n",
    "        inp = sc.par(\"input\", {\"node_loc\": region, \"technology\": curtail_tec})\n",
    "        inp[\"technology\"] = rel_tech[rel]  # is needed in case a new bin is added\n",
    "        inp[\"value\"] = input_electr[rel_tech[rel]]\n",
    "        sc.add_par(\"input\", inp)\n",
    "print(\"- New theoretical curtailment relations configured.\")\n"
   ]
  },
  {
   "cell_type": "markdown",
   "id": "6d39f6b9-a78a-4c7f-b097-030071a7df77",
   "metadata": {},
   "source": [
    "# 4) Adding new VRE curtailment relations (matrix of N x M solar/wind bins)"
   ]
  },
  {
   "cell_type": "code",
   "execution_count": 13,
   "id": "5f37c071-6f85-4e34-bcc9-153e7eb9221d",
   "metadata": {
    "tags": []
   },
   "outputs": [
    {
     "data": {
      "text/plain": [
       "['vre_curtailment_w1s0',\n",
       " 'vre_curtailment_w2s0',\n",
       " 'vre_curtailment_w3s0',\n",
       " 'vre_curtailment_w4s0',\n",
       " 'vre_curtailment_w5s0',\n",
       " 'vre_curtailment_w6s0',\n",
       " 'vre_curtailment_w0s1',\n",
       " 'vre_curtailment_w1s1',\n",
       " 'vre_curtailment_w2s1',\n",
       " 'vre_curtailment_w3s1',\n",
       " 'vre_curtailment_w4s1',\n",
       " 'vre_curtailment_w5s1',\n",
       " 'vre_curtailment_w6s1',\n",
       " 'vre_curtailment_w0s2',\n",
       " 'vre_curtailment_w1s2',\n",
       " 'vre_curtailment_w2s2',\n",
       " 'vre_curtailment_w3s2',\n",
       " 'vre_curtailment_w4s2',\n",
       " 'vre_curtailment_w5s2',\n",
       " 'vre_curtailment_w6s2',\n",
       " 'vre_curtailment_w0s3',\n",
       " 'vre_curtailment_w1s3',\n",
       " 'vre_curtailment_w2s3',\n",
       " 'vre_curtailment_w3s3',\n",
       " 'vre_curtailment_w4s3',\n",
       " 'vre_curtailment_w5s3',\n",
       " 'vre_curtailment_w0s4',\n",
       " 'vre_curtailment_w1s4',\n",
       " 'vre_curtailment_w2s4',\n",
       " 'vre_curtailment_w3s4',\n",
       " 'vre_curtailment_w4s4',\n",
       " 'vre_curtailment_w5s4',\n",
       " 'vre_curtailment_w0s5',\n",
       " 'vre_curtailment_w1s5',\n",
       " 'vre_curtailment_w2s5',\n",
       " 'vre_curtailment_w3s5',\n",
       " 'vre_curtailment_w4s5',\n",
       " 'vre_curtailment_w0s6',\n",
       " 'vre_curtailment_w1s6',\n",
       " 'vre_curtailment_w2s6']"
      ]
     },
     "execution_count": 13,
     "metadata": {},
     "output_type": "execute_result"
    }
   ],
   "source": [
    "# the following relations will be added:\n",
    "list(new_bins.keys())"
   ]
  },
  {
   "cell_type": "code",
   "execution_count": 19,
   "id": "55d7baeb-1ce2-4e6c-b278-887861cc6ebf",
   "metadata": {
    "tags": []
   },
   "outputs": [
    {
     "name": "stdout",
     "output_type": "stream",
     "text": [
      "- New VRE curtailment relations configured.\n"
     ]
    }
   ],
   "source": [
    "# 4.1) Add new bins to the set of relations and respective technologies to technology\n",
    "sc.add_set(\"relation\", new_bins.keys())\n",
    "\n",
    "for rel_new, region in product(sorted(new_bins.keys()), regions):\n",
    "    # Relevant wind/solar relations\n",
    "    relations = [x for x, y in rel_tech.items() if y in new_bins[rel_new][0].keys()]\n",
    "\n",
    "    # Load the old data of contributors and use the average of solar and wind\n",
    "    # TODO: The contributions must come from PyPSA. At the moment, the old values are\n",
    "    # used for illustration\n",
    "    old = sc.par(parname, {\"node_loc\": region, \"relation\": relations})\n",
    "    if old.empty:\n",
    "        continue\n",
    "\n",
    "    # Keep only contributor and curtailment technologies\n",
    "    # This does not need VRE generation and electricity grid, as the curtailment\n",
    "    # bins as % of the grid were calculated in step (3) and here we use them\n",
    "    techs = [x for x in set(old[\"technology\"]) if\n",
    "             not any([y in x for y in [\"wind_r\", \"solar_r\", \"elec_t_d\"]])]\n",
    "    new = old.loc[old[\"technology\"].isin(techs)].copy()\n",
    "\n",
    "    # Group by technology and take the average of contributors values for solar and\n",
    "    # wind for this VRE bin (e.g., if storage has 0.2 for wind, 0.1 for solar,\n",
    "    # average(0.2 , 0.1) = 0.15 will be used for this VRE bin)\n",
    "    new = new.groupby(\n",
    "        [\"node_rel\", \"node_loc\", \"mode\", \"technology\", \"year_rel\", \"year_act\"]\n",
    "                      ).mean(numeric_only=True)\n",
    "    new = new.assign(relation=rel_new, unit=\"GWa\").reset_index()\n",
    "\n",
    "    # Change the sign of curtailment techs to (+1) to equalize them with contributors\n",
    "    new.loc[new[\"technology\"].isin(new_bins[rel_new]), \"value\"] = 1\n",
    "\n",
    "    # 4.2) Add the new equation for the VRE curtailment bin to the scenario\n",
    "    sc.add_par(parname, new)\n",
    "\n",
    "    # 4.3) Add an upper bound for the new relation\n",
    "    bound = new.drop_duplicates([\"node_rel\", \"year_rel\", \"relation\"]).copy()\n",
    "    bound[\"value\"] = 0\n",
    "    sc.add_par(\"relation_upper\", bound)\n",
    "\n",
    "    # If treating input electricity at the VRE level (combination of solar-wind bins)\n",
    "    if not keep_input_loss and include_vre_input_loss:\n",
    "        # Relevant VRE technology\n",
    "        tech_new = (\"_\").join(rel_new.split(\"_\")[:2]) + rel_new.split(\"_\")[2]\n",
    "        # 4.1.1) Add new VRE technology to the scenario\n",
    "        sc.add_set(\"technology\", tech_new)\n",
    "        # 4.2.1) Add VRE technology to this curtailment relation\n",
    "        vre = new.loc[new[\"technology\"].isin(new_bins[rel_new])]\n",
    "        # Change the sign of VRE curtailment value to (-)\n",
    "        # VRE curtailment is equal to the unmet curtailment of wind and solar, i.e.:\n",
    "        # wind_curtail + solar_curtail <= storage (all contributors) + VRE_curtail\n",
    "        vre = vre.assign(technology=tech_new, value=-1)\n",
    "        sc.add_par(parname, vre)\n",
    "\n",
    "        # 4.4.) Add \"input\" electricity for this VRE technology\n",
    "        # Load sample data and copy it for each bin\n",
    "        if include_vre_input_loss:\n",
    "            inp = sc.par(\"input\", {\"node_loc\": region,\n",
    "                                   \"technology\": \"solar_curtailment1\"})\n",
    "        # Add values for curtailed electricity at each combination of wind and solar\n",
    "        # TODO: These values should come from PyPSA\n",
    "        inp = inp.assign(technology=tech_new, \n",
    "                         value=input_electr[rel_new])\n",
    "        sc.add_par(\"input\", inp)\n",
    "\n",
    "print(\"- New VRE curtailment relations configured.\")\n"
   ]
  },
  {
   "cell_type": "code",
   "execution_count": 29,
   "id": "d01a1a41-d653-43c6-800c-ccefecaedd44",
   "metadata": {
    "tags": []
   },
   "outputs": [
    {
     "data": {
      "text/plain": [
       "['solar_curtailment_2', 'wind_curtailment_6']"
      ]
     },
     "execution_count": 29,
     "metadata": {},
     "output_type": "execute_result"
    }
   ],
   "source": [
    "relations"
   ]
  },
  {
   "cell_type": "code",
   "execution_count": 31,
   "id": "6df8215d-95e2-44af-b07b-1a1ed4a13898",
   "metadata": {
    "tags": []
   },
   "outputs": [
    {
     "data": {
      "text/plain": [
       "['elec_imp_eur_afr',\n",
       " 'h2_elec',\n",
       " 'solar_curtailment2',\n",
       " 'elec_exp_eurasia',\n",
       " 'elec_imp_eurasia',\n",
       " 'stor_ppl',\n",
       " 'elec_trp',\n",
       " 'elec_exp_eur_afr']"
      ]
     },
     "execution_count": 31,
     "metadata": {},
     "output_type": "execute_result"
    }
   ],
   "source": [
    "techs"
   ]
  },
  {
   "cell_type": "code",
   "execution_count": 36,
   "id": "acdd3540-cee1-4966-9950-4a90f0c5793a",
   "metadata": {
    "tags": []
   },
   "outputs": [
    {
     "data": {
      "text/plain": [
       "array(['elec_trp', 'solar_curtailment2', 'h2_elec', 'stor_ppl',\n",
       "       'elec_exp_eurasia', 'elec_exp_eur_afr', 'elec_imp_eurasia',\n",
       "       'elec_imp_eur_afr'], dtype=object)"
      ]
     },
     "execution_count": 36,
     "metadata": {},
     "output_type": "execute_result"
    }
   ],
   "source": [
    "old.technology.loc[old[\"technology\"].isin(techs)].unique()"
   ]
  },
  {
   "cell_type": "code",
   "execution_count": 22,
   "id": "4ec845be-cd0c-4543-818b-2589f0bc1b18",
   "metadata": {
    "tags": []
   },
   "outputs": [],
   "source": [
    "df_relation_activity = sc.par(\"relation_activity\")"
   ]
  },
  {
   "cell_type": "code",
   "execution_count": 28,
   "id": "b9678976-3bcf-4f01-b2b0-5a47397b5c74",
   "metadata": {
    "tags": []
   },
   "outputs": [
    {
     "data": {
      "text/html": [
       "<div>\n",
       "<style scoped>\n",
       "    .dataframe tbody tr th:only-of-type {\n",
       "        vertical-align: middle;\n",
       "    }\n",
       "\n",
       "    .dataframe tbody tr th {\n",
       "        vertical-align: top;\n",
       "    }\n",
       "\n",
       "    .dataframe thead th {\n",
       "        text-align: right;\n",
       "    }\n",
       "</style>\n",
       "<table border=\"1\" class=\"dataframe\">\n",
       "  <thead>\n",
       "    <tr style=\"text-align: right;\">\n",
       "      <th></th>\n",
       "      <th>relation</th>\n",
       "      <th>node_rel</th>\n",
       "      <th>year_rel</th>\n",
       "      <th>node_loc</th>\n",
       "      <th>technology</th>\n",
       "      <th>year_act</th>\n",
       "      <th>mode</th>\n",
       "      <th>value</th>\n",
       "      <th>unit</th>\n",
       "    </tr>\n",
       "  </thead>\n",
       "  <tbody>\n",
       "    <tr>\n",
       "      <th>492238</th>\n",
       "      <td>vre_curtailment_w6s2</td>\n",
       "      <td>R11_WEU</td>\n",
       "      <td>2050</td>\n",
       "      <td>R11_WEU</td>\n",
       "      <td>elec_exp_eur_afr</td>\n",
       "      <td>2050</td>\n",
       "      <td>M1</td>\n",
       "      <td>-0.180000</td>\n",
       "      <td>GWa</td>\n",
       "    </tr>\n",
       "    <tr>\n",
       "      <th>492258</th>\n",
       "      <td>vre_curtailment_w6s2</td>\n",
       "      <td>R11_WEU</td>\n",
       "      <td>2050</td>\n",
       "      <td>R11_WEU</td>\n",
       "      <td>elec_exp_eurasia</td>\n",
       "      <td>2050</td>\n",
       "      <td>M1</td>\n",
       "      <td>-0.180000</td>\n",
       "      <td>GWa</td>\n",
       "    </tr>\n",
       "    <tr>\n",
       "      <th>492278</th>\n",
       "      <td>vre_curtailment_w6s2</td>\n",
       "      <td>R11_WEU</td>\n",
       "      <td>2050</td>\n",
       "      <td>R11_WEU</td>\n",
       "      <td>elec_imp_eur_afr</td>\n",
       "      <td>2050</td>\n",
       "      <td>M1</td>\n",
       "      <td>0.180000</td>\n",
       "      <td>GWa</td>\n",
       "    </tr>\n",
       "    <tr>\n",
       "      <th>492298</th>\n",
       "      <td>vre_curtailment_w6s2</td>\n",
       "      <td>R11_WEU</td>\n",
       "      <td>2050</td>\n",
       "      <td>R11_WEU</td>\n",
       "      <td>elec_imp_eurasia</td>\n",
       "      <td>2050</td>\n",
       "      <td>M1</td>\n",
       "      <td>0.180000</td>\n",
       "      <td>GWa</td>\n",
       "    </tr>\n",
       "    <tr>\n",
       "      <th>492318</th>\n",
       "      <td>vre_curtailment_w6s2</td>\n",
       "      <td>R11_WEU</td>\n",
       "      <td>2050</td>\n",
       "      <td>R11_WEU</td>\n",
       "      <td>elec_trp</td>\n",
       "      <td>2050</td>\n",
       "      <td>M1</td>\n",
       "      <td>-0.066667</td>\n",
       "      <td>GWa</td>\n",
       "    </tr>\n",
       "    <tr>\n",
       "      <th>492334</th>\n",
       "      <td>vre_curtailment_w6s2</td>\n",
       "      <td>R11_WEU</td>\n",
       "      <td>2050</td>\n",
       "      <td>R11_WEU</td>\n",
       "      <td>h2_elec</td>\n",
       "      <td>2050</td>\n",
       "      <td>M1</td>\n",
       "      <td>-0.157895</td>\n",
       "      <td>GWa</td>\n",
       "    </tr>\n",
       "    <tr>\n",
       "      <th>492354</th>\n",
       "      <td>vre_curtailment_w6s2</td>\n",
       "      <td>R11_WEU</td>\n",
       "      <td>2050</td>\n",
       "      <td>R11_WEU</td>\n",
       "      <td>solar_curtailment2</td>\n",
       "      <td>2050</td>\n",
       "      <td>M1</td>\n",
       "      <td>-1.000000</td>\n",
       "      <td>GWa</td>\n",
       "    </tr>\n",
       "    <tr>\n",
       "      <th>492374</th>\n",
       "      <td>vre_curtailment_w6s2</td>\n",
       "      <td>R11_WEU</td>\n",
       "      <td>2050</td>\n",
       "      <td>R11_WEU</td>\n",
       "      <td>stor_ppl</td>\n",
       "      <td>2050</td>\n",
       "      <td>M1</td>\n",
       "      <td>-0.600000</td>\n",
       "      <td>GWa</td>\n",
       "    </tr>\n",
       "  </tbody>\n",
       "</table>\n",
       "</div>"
      ],
      "text/plain": [
       "                    relation node_rel  year_rel node_loc          technology  \\\n",
       "492238  vre_curtailment_w6s2  R11_WEU      2050  R11_WEU    elec_exp_eur_afr   \n",
       "492258  vre_curtailment_w6s2  R11_WEU      2050  R11_WEU    elec_exp_eurasia   \n",
       "492278  vre_curtailment_w6s2  R11_WEU      2050  R11_WEU    elec_imp_eur_afr   \n",
       "492298  vre_curtailment_w6s2  R11_WEU      2050  R11_WEU    elec_imp_eurasia   \n",
       "492318  vre_curtailment_w6s2  R11_WEU      2050  R11_WEU            elec_trp   \n",
       "492334  vre_curtailment_w6s2  R11_WEU      2050  R11_WEU             h2_elec   \n",
       "492354  vre_curtailment_w6s2  R11_WEU      2050  R11_WEU  solar_curtailment2   \n",
       "492374  vre_curtailment_w6s2  R11_WEU      2050  R11_WEU            stor_ppl   \n",
       "\n",
       "        year_act mode     value unit  \n",
       "492238      2050   M1 -0.180000  GWa  \n",
       "492258      2050   M1 -0.180000  GWa  \n",
       "492278      2050   M1  0.180000  GWa  \n",
       "492298      2050   M1  0.180000  GWa  \n",
       "492318      2050   M1 -0.066667  GWa  \n",
       "492334      2050   M1 -0.157895  GWa  \n",
       "492354      2050   M1 -1.000000  GWa  \n",
       "492374      2050   M1 -0.600000  GWa  "
      ]
     },
     "execution_count": 28,
     "metadata": {},
     "output_type": "execute_result"
    }
   ],
   "source": [
    "df_relation_activity.query(\"relation == 'vre_curtailment_w6s2'\").query(\"year_act == 2050\")"
   ]
  },
  {
   "cell_type": "code",
   "execution_count": null,
   "id": "5f71c0a0-d8de-484e-a5e1-9f0a82c4cfa4",
   "metadata": {
    "tags": []
   },
   "outputs": [
    {
     "name": "stdout",
     "output_type": "stream",
     "text": [
      "Solving scenario \"MESSAGEix-GLOBIOM__ENGAGE_SSP2_EN_NPi2020_500__v9\", please wait...!\n"
     ]
    }
   ],
   "source": [
    "# 5) Remove the contributor technologies from theoretical relations\n",
    "# They are already added to new VRE relations\n",
    "for rel, region in product(sorted(phi.keys()), regions):\n",
    "    # Load existing data\n",
    "    df = sc.par(parname, {\"node_loc\": region, \"relation\": rel})\n",
    "    contributors = [x for x in set(df[\"technology\"]) if\n",
    "                    not any([y in x for y in [\"wind\", \"solar\", \"elec_t_d\"]])]\n",
    "    df = df.loc[df[\"technology\"].isin(contributors)].copy()\n",
    "    # Remove contributors from theoretical relations\n",
    "    sc.remove_par(parname, df)\n",
    "\n",
    "    # Removing input electricity from wind and solar\n",
    "    if not keep_input_loss:\n",
    "        inp = sc.par(\"input\", {\"node_loc\": region, \"technology\": rel_tech[rel]})\n",
    "        sc.remove_par(\"input\", inp)\n",
    "\n",
    "sc.commit(\"Curtailment updated\")\n",
    "\n",
    "model\n",
    "if solve_scenario:\n",
    "    case = sc.model + '__' + sc.scenario + '__v' + str(sc.version)\n",
    "    print(f'Solving scenario \"{case}\", please wait...!')\n",
    "\n",
    "    start = timer()\n",
    "    sc.solve(model='MESSAGE', case=case)\n",
    "    end = timer()\n",
    "    print('Elapsed time for solving scenario:', int((end - start)/60),\n",
    "          'min and', round((end - start) % 60, 2), 'sec.')\n",
    "    sc.set_as_default()\n"
   ]
  },
  {
   "cell_type": "code",
   "execution_count": 148,
   "id": "559a12fd-54ff-4b0c-b12b-84c58357a9df",
   "metadata": {
    "tags": []
   },
   "outputs": [],
   "source": [
    "mp.close_db()"
   ]
  }
 ],
 "metadata": {
  "kernelspec": {
   "display_name": "Python 3 (ipykernel)",
   "language": "python",
   "name": "python3"
  },
  "language_info": {
   "codemirror_mode": {
    "name": "ipython",
    "version": 3
   },
   "file_extension": ".py",
   "mimetype": "text/x-python",
   "name": "python",
   "nbconvert_exporter": "python",
   "pygments_lexer": "ipython3",
   "version": "3.10.8"
  }
 },
 "nbformat": 4,
 "nbformat_minor": 5
}
