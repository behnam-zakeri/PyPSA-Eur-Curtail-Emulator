{
 "cells": [
  {
   "cell_type": "code",
   "execution_count": 27,
   "metadata": {},
   "outputs": [],
   "source": [
    "import ixmp as ix\n",
    "import message_ix\n",
    "import warnings\n",
    "warnings.filterwarnings('ignore')\n",
    "from scripts_for_diagnostics import remove_curtailment, remove_firm_capacity_constraint, remove_flexibility_constraint, remove_integration_cost"
   ]
  },
  {
   "cell_type": "code",
   "execution_count": 28,
   "metadata": {},
   "outputs": [],
   "source": [
    "mp = ix.Platform('local',jvmargs=[\"-Xmx8G\"])"
   ]
  },
  {
   "cell_type": "code",
   "execution_count": 29,
   "metadata": {},
   "outputs": [],
   "source": [
    "opts = \"remove_all_but_curtailment\"\n",
    "\n",
    "scen_og = message_ix.Scenario(mp, model=\"MESSAGEix-GLOBIOM\", scenario=\"ENGAGE_SSP2_EN_NPi2020_500\", version=1)\n",
    "scen = scen_og.clone(model=\"MESSAGEix-GLOBIOM\" , scenario=\"ENGAGE_SSP2_EN_NPi2020_500_\" + opts, keep_solution=False)\n",
    "scen.check_out()"
   ]
  },
  {
   "cell_type": "markdown",
   "metadata": {},
   "source": [
    "Remove the desired constraints:"
   ]
  },
  {
   "cell_type": "code",
   "execution_count": 30,
   "metadata": {},
   "outputs": [
    {
     "name": "stdout",
     "output_type": "stream",
     "text": [
      "        relation node_rel  year_rel node_loc technology  year_act mode  value  \\\n",
      "31817   oper_res  R11_AFR      1990  R11_AFR  solar_cv1      1990   M1      0   \n",
      "31823   oper_res  R11_AFR      1995  R11_AFR  solar_cv1      1995   M1      0   \n",
      "31829   oper_res  R11_AFR      2000  R11_AFR  solar_cv1      2000   M1      0   \n",
      "31835   oper_res  R11_AFR      2005  R11_AFR  solar_cv1      2005   M1      0   \n",
      "31841   oper_res  R11_AFR      2010  R11_AFR  solar_cv1      2010   M1      0   \n",
      "...          ...      ...       ...      ...        ...       ...  ...    ...   \n",
      "432217  oper_res  R11_WEU      2070  R11_WEU   wind_cv4      2070   M1      0   \n",
      "432219  oper_res  R11_WEU      2080  R11_WEU   wind_cv4      2080   M1      0   \n",
      "432221  oper_res  R11_WEU      2090  R11_WEU   wind_cv4      2090   M1      0   \n",
      "432223  oper_res  R11_WEU      2100  R11_WEU   wind_cv4      2100   M1      0   \n",
      "432225  oper_res  R11_WEU      2110  R11_WEU   wind_cv4      2110   M1      0   \n",
      "\n",
      "       unit  \n",
      "31817   ???  \n",
      "31823   ???  \n",
      "31829   ???  \n",
      "31835   ???  \n",
      "31841   ???  \n",
      "...     ...  \n",
      "432217  ???  \n",
      "432219  ???  \n",
      "432221  ???  \n",
      "432223  ???  \n",
      "432225  ???  \n",
      "\n",
      "[1760 rows x 9 columns]\n"
     ]
    }
   ],
   "source": [
    "df_rel_activity = scen.par(\"relation_activity\")\n",
    "# remove_curtailment(scen, df_rel_activity)\n",
    "remove_firm_capacity_constraint(scen, df_rel_activity)\n",
    "remove_flexibility_constraint(scen, df_rel_activity)\n",
    "remove_integration_cost(scen)"
   ]
  },
  {
   "cell_type": "markdown",
   "metadata": {},
   "source": [
    "Commit and solve:"
   ]
  },
  {
   "cell_type": "code",
   "execution_count": 31,
   "metadata": {},
   "outputs": [],
   "source": [
    "scen.commit(opts)"
   ]
  },
  {
   "cell_type": "code",
   "execution_count": 32,
   "metadata": {},
   "outputs": [],
   "source": [
    "scen.solve(solve_options={\"lpmethod\": \"4\",\n",
    "                          \"advind\":\"0\",\n",
    "                          \"lpmethod\":\"4\",\"threads\":\"4\", \n",
    "                          \"epopt\":\"1e-06\",\n",
    "                          \"scaind\":\"-1\"})"
   ]
  },
  {
   "cell_type": "code",
   "execution_count": 33,
   "metadata": {},
   "outputs": [],
   "source": [
    "mp.close_db()"
   ]
  }
 ],
 "metadata": {
  "kernelspec": {
   "display_name": "message_env",
   "language": "python",
   "name": "python3"
  },
  "language_info": {
   "codemirror_mode": {
    "name": "ipython",
    "version": 3
   },
   "file_extension": ".py",
   "mimetype": "text/x-python",
   "name": "python",
   "nbconvert_exporter": "python",
   "pygments_lexer": "ipython3",
   "version": "3.10.8"
  }
 },
 "nbformat": 4,
 "nbformat_minor": 2
}
