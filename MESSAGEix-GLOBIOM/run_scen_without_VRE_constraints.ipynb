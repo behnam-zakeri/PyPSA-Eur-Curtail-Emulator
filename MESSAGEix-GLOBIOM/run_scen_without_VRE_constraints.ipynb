{
 "cells": [
  {
   "cell_type": "code",
   "execution_count": 98,
   "metadata": {},
   "outputs": [],
   "source": [
    "import ixmp as ix\n",
    "import message_ix\n",
    "import warnings\n",
    "warnings.filterwarnings('ignore')\n",
    "\n",
    "mp = ix.Platform('local',jvmargs=[\"-Xmx8G\"])"
   ]
  },
  {
   "cell_type": "code",
   "execution_count": 99,
   "metadata": {},
   "outputs": [],
   "source": [
    "scen_og = message_ix.Scenario(mp, model=\"MESSAGEix-GLOBIOM\", scenario=\"ENGAGE_SSP2_EN_NPi2020_500\")\n",
    "#scen = scen_og.clone(model=\"MESSAGEix-GLOBIOM\" , scenario=\"ENGAGE_SSP2_EN_NPi2020_500_zero_vre_integration_constraints\", keep_solution=False)\n",
    "scen = scen_og.clone(model=\"MESSAGEix-GLOBIOM\" , scenario=\"ENGAGE_SSP2_EN_NPi2020_500_removing_IC_and_curtailment\", keep_solution=False)\n",
    "scen.check_out()"
   ]
  },
  {
   "cell_type": "markdown",
   "metadata": {},
   "source": [
    "Remove the curtailment constraints:"
   ]
  },
  {
   "cell_type": "code",
   "execution_count": 100,
   "metadata": {},
   "outputs": [],
   "source": [
    "def remove_curtailment(scen, df_rel_activity, source=None):\n",
    "    if source is None:\n",
    "        df_curtailment = df_rel_activity.loc[df_rel_activity.relation.str.contains(\"curtailment\")]\n",
    "        tech = [x for x in scen.set(\"technology\") if \"curtailment\" in x]\n",
    "        df_curtailment_techs = df_curtailment.loc[df_curtailment.technology.str.contains(\"curtailment\")]\n",
    "        print(\"removing all curtailment\")\n",
    "    else:\n",
    "        df_curtailment = df_rel_activity.loc[df_rel_activity.relation.str.contains(source + \"_curtailment\")]\n",
    "        tech = [x for x in scen.set(\"technology\") if source + \"_curtailment\" in x]\n",
    "        df_curtailment_techs = df_curtailment.loc[df_curtailment.technology.str.contains(\"curtailment\")]\n",
    "        print(\"removing \" + source + \" curtailment\")\n",
    "        \n",
    "    scen.remove_par(\"relation_activity\", df_curtailment_techs)\n",
    "\n",
    "    df_inputs = scen.par('input',{\"technology\":tech})\n",
    "    scen.remove_par(\"input\",df_inputs)\n",
    "\n",
    "    df_inputs.value = 0\n",
    "    scen.add_par(\"input\", df_inputs)"
   ]
  },
  {
   "cell_type": "markdown",
   "metadata": {},
   "source": [
    "Remove the renewable integration costs:"
   ]
  },
  {
   "cell_type": "code",
   "execution_count": 101,
   "metadata": {},
   "outputs": [],
   "source": [
    "def remove_integration_cost(scen):\n",
    "    df_var_cost = scen.par(\"var_cost\")\n",
    "    df_integration_cost = df_var_cost.loc[df_var_cost.technology.str.contains(\"cv\")]\n",
    "    scen.remove_par(\"var_cost\", df_integration_cost)\n",
    "    df_integration_cost.value = 0\n",
    "    scen.add_par(\"var_cost\", df_integration_cost)"
   ]
  },
  {
   "cell_type": "markdown",
   "metadata": {},
   "source": [
    "Add slack to the firm capacity constraint:"
   ]
  },
  {
   "cell_type": "code",
   "execution_count": 102,
   "metadata": {},
   "outputs": [],
   "source": [
    "def remove_firm_capacity_constraint(scen, df_rel_activity):\n",
    "    df_res_marg = df_rel_activity.query(\"relation == 'res_marg'\")\n",
    "    df_res_marg_cv = df_res_marg.loc[df_res_marg.technology.str.contains(\"cv\")]\n",
    "    scen.remove_par(\"relation_activity\", df_res_marg_cv)\n",
    "    df_res_marg_cv.value = 1\n",
    "    scen.add_par(\"relation_activity\", df_res_marg_cv)"
   ]
  },
  {
   "cell_type": "markdown",
   "metadata": {},
   "source": [
    "Add slack to the flexibility constraint:"
   ]
  },
  {
   "cell_type": "code",
   "execution_count": 103,
   "metadata": {},
   "outputs": [],
   "source": [
    "def remove_flexibility_constraint(scen, df_rel_activity):\n",
    "    df_oper_res = df_rel_activity.query(\"relation == 'oper_res'\")\n",
    "    df_oper_res_cv = df_oper_res.loc[df_oper_res.technology.str.contains(\"cv\")]\n",
    "    scen.remove_par(\"relation_activity\", df_oper_res_cv)\n",
    "    df_oper_res_cv.value = 0\n",
    "    scen.add_par(\"relation_activity\", df_oper_res_cv)"
   ]
  },
  {
   "cell_type": "markdown",
   "metadata": {},
   "source": [
    "Remove only the desired constraints:"
   ]
  },
  {
   "cell_type": "code",
   "execution_count": 104,
   "metadata": {},
   "outputs": [
    {
     "name": "stdout",
     "output_type": "stream",
     "text": [
      "removing all curtailment\n"
     ]
    }
   ],
   "source": [
    "df_rel_activity = scen.par(\"relation_activity\")\n",
    "remove_curtailment(scen, df_rel_activity)\n",
    "# remove_firm_capacity_constraint(scen, df_rel_activity)\n",
    "# remove_flexibility_constraint(scen, df_rel_activity)\n",
    "remove_integration_cost(scen)"
   ]
  },
  {
   "cell_type": "markdown",
   "metadata": {},
   "source": [
    "Commit and solve:"
   ]
  },
  {
   "cell_type": "code",
   "execution_count": 84,
   "metadata": {},
   "outputs": [],
   "source": [
    "scen.commit(\"remove curtailment and integration costs\")"
   ]
  },
  {
   "cell_type": "code",
   "execution_count": 85,
   "metadata": {},
   "outputs": [],
   "source": [
    "scen.solve(solve_options={\"lpmethod\": \"4\",\n",
    "                          \"advind\":\"0\",\n",
    "                         \"lpmethod\":\"4\",\"threads\":\"4\", \n",
    "                         \"epopt\":\"1e-06\",\n",
    "                         \"scaind\":\"-1\"})"
   ]
  },
  {
   "cell_type": "code",
   "execution_count": 1,
   "metadata": {},
   "outputs": [
    {
     "ename": "NameError",
     "evalue": "name 'mp' is not defined",
     "output_type": "error",
     "traceback": [
      "\u001b[1;31m---------------------------------------------------------------------------\u001b[0m",
      "\u001b[1;31mNameError\u001b[0m                                 Traceback (most recent call last)",
      "\u001b[1;32mc:\\Users\\au485969\\OneDrive - Aarhus Universitet\\PhD\\IIASA YSSP\\analysis\\run_without_VRE_constraints.ipynb Cell 16\u001b[0m line \u001b[0;36m1\n\u001b[1;32m----> <a href='vscode-notebook-cell:/c%3A/Users/au485969/OneDrive%20-%20Aarhus%20Universitet/PhD/IIASA%20YSSP/analysis/run_without_VRE_constraints.ipynb#X21sZmlsZQ%3D%3D?line=0'>1</a>\u001b[0m mp\u001b[39m.\u001b[39mclose_db()\n",
      "\u001b[1;31mNameError\u001b[0m: name 'mp' is not defined"
     ]
    }
   ],
   "source": [
    "mp.close_db()"
   ]
  }
 ],
 "metadata": {
  "kernelspec": {
   "display_name": "message_env",
   "language": "python",
   "name": "python3"
  },
  "language_info": {
   "codemirror_mode": {
    "name": "ipython",
    "version": 3
   },
   "file_extension": ".py",
   "mimetype": "text/x-python",
   "name": "python",
   "nbconvert_exporter": "python",
   "pygments_lexer": "ipython3",
   "version": "3.10.8"
  }
 },
 "nbformat": 4,
 "nbformat_minor": 2
}
