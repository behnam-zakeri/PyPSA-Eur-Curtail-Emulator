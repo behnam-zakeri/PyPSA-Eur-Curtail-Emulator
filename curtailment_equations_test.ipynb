{
 "cells": [
  {
   "cell_type": "code",
   "execution_count": 11,
   "metadata": {},
   "outputs": [],
   "source": [
    "from scripts.plotting import read_and_plot_scenarios\n",
    "\n",
    "import numpy as np\n",
    "import pandas as pd"
   ]
  },
  {
   "cell_type": "markdown",
   "metadata": {},
   "source": [
    "Inputs:"
   ]
  },
  {
   "cell_type": "code",
   "execution_count": 356,
   "metadata": {},
   "outputs": [],
   "source": [
    "#################### INPUT ####################\n",
    "renewable = \"solar\"\n",
    "\n",
    "demand = 100 # GWa\n",
    "primary_resource = 40 # GWa\n",
    "secondary_resource = 90 # GWa\n",
    "LDES = 0 # GWa \n",
    "SDES = 0 # GWa\n",
    "\n",
    "ACT = {\"ldes\":LDES,\n",
    "       \"sdes\":SDES}\n",
    "###############################################"
   ]
  },
  {
   "cell_type": "markdown",
   "metadata": {},
   "source": [
    "Read gamma coefficients:"
   ]
  },
  {
   "cell_type": "code",
   "execution_count": 357,
   "metadata": {},
   "outputs": [],
   "source": [
    "filenames = {\"wind\":\"wind_curtailment_delta_df1_dx1\",\n",
    "             \"solar\":\"solar_curtailment_delta_df2_dx2\"}\n",
    "gamma_ij = pd.read_csv(\"MESSAGEix_GLOBIOM/\" + filenames[renewable] + \".csv\",index_col=0)\n",
    "gamma_ij[\"ind\"] = gamma_ij.index\n",
    "gamma_ij[\"ws_ind\"] = gamma_ij.ind.str.split(\"_\",expand=True)[2]\n",
    "if renewable == \"wind\":\n",
    "    gamma_ij[\"solar\"] = gamma_ij[\"ws_ind\"].str.split(\"s\",expand=True)[1].astype(int)\n",
    "    gamma_ij[\"w_ind\"] = gamma_ij[\"ws_ind\"].str.split(\"s\",expand=True)[0]\n",
    "    gamma_ij[\"wind\"] = gamma_ij[\"w_ind\"].str.split(\"w\",expand=True)[1].astype(int)\n",
    "    gamma_ij.drop(columns=[\"ind\",\"ws_ind\",\"w_ind\"],inplace=True)\n",
    "elif renewable == \"solar\":\n",
    "    gamma_ij[\"wind\"] = gamma_ij[\"ws_ind\"].str.split(\"w\",expand=True)[1].astype(int)\n",
    "    gamma_ij[\"s_ind\"] = gamma_ij[\"ws_ind\"].str.split(\"w\",expand=True)[0]\n",
    "    gamma_ij[\"solar\"] = gamma_ij[\"s_ind\"].str.split(\"s\",expand=True)[1].astype(int)\n",
    "    gamma_ij.drop(columns=[\"ind\",\"ws_ind\",\"s_ind\"],inplace=True)\n",
    "\n",
    "gamma_ij.set_index([\"solar\",\"wind\"],inplace=True)"
   ]
  },
  {
   "cell_type": "markdown",
   "metadata": {},
   "source": [
    "Read beta coefficients:"
   ]
  },
  {
   "cell_type": "code",
   "execution_count": 334,
   "metadata": {},
   "outputs": [],
   "source": [
    "tech = \"ldes\"\n",
    "act_tech = ACT[tech]\n",
    "beta_tech_renewable = pd.read_csv(\"MESSAGEix_GLOBIOM/beta_\" + tech + \"_\" + renewable + \".csv\",index_col=0)\n",
    "\n",
    "beta_tech_renewable.columns = [0,0.1,0.3,0.4,0.5,0.6,0.7]\n",
    "beta_tech_renewable.index = [0,0.1,0.3,0.4,0.5,0.6,0.7]\n",
    "\n",
    "beta_tech_renewable_explanatory = beta_tech_renewable.copy()\n",
    "beta_tech_renewable_explanatory.columns = [\"0\",\">=10%\",\">=30%\",\">=40%\",\">=50%\",\">=60%\",\">=70%\"]\n",
    "beta_tech_renewable_explanatory.index = [\"0\",\">=10%\",\">=30%\",\">=40%\",\">=50%\",\">=60%\",\">=70%\"]"
   ]
  },
  {
   "cell_type": "markdown",
   "metadata": {},
   "source": [
    "Equations for the base curtailment:"
   ]
  },
  {
   "cell_type": "code",
   "execution_count": 359,
   "metadata": {},
   "outputs": [],
   "source": [
    "phi_i = [0, 10, 30, 40, 50, 60, 70, 90]\n",
    "phi_j = [10, 30, 40, 50, 60, 70]\n",
    "\n",
    "# base term\n",
    "curtailment_base = {}\n",
    "for i in range(len(phi_i)-1):\n",
    "    curtailment_base[0,i] = gamma_ij.loc[0,i]*(primary_resource - phi_i[i]) if primary_resource > phi_i[i] else 0\n",
    "    \n",
    "curtailment_base_df = pd.DataFrame.from_dict(curtailment_base).T.sort_index()\n",
    "base_term_sum = curtailment_base_df.sum() \n",
    "\n",
    "# secondary resource term\n",
    "curtailment_ij = {}\n",
    "for i in range(len(phi_i)-1):\n",
    "    for j in range(len(phi_j)):\n",
    "        if (j+1,i) in gamma_ij.index:\n",
    "            curtailment = gamma_ij.loc[j+1,i]*(secondary_resource - phi_j[j]) if secondary_resource > phi_j[j] else 0\n",
    "            curtailment_ij[j,i] = curtailment if primary_resource >= phi_i[i+1] else 0\n",
    "            \n",
    "curtailment_ij_df = pd.DataFrame.from_dict(curtailment_ij).T.sort_index()\n",
    "secondary_term_sum = curtailment_ij_df.sum()"
   ]
  },
  {
   "cell_type": "markdown",
   "metadata": {},
   "source": [
    "Equations for the technology term:"
   ]
  },
  {
   "cell_type": "code",
   "execution_count": 360,
   "metadata": {},
   "outputs": [],
   "source": [
    "# tech term \n",
    "curtailment_tech_ij = {}\n",
    "bins_i = beta_tech_renewable.columns\n",
    "bins_j = beta_tech_renewable.index\n",
    "\n",
    "for i in range(len(bins_i)):\n",
    "    for j in range(len(bins_j)):\n",
    "\n",
    "        if j < len(bins_j)-1 and i < len(bins_i)-1:\n",
    "            condition_i = primary_resource >= bins_i[i]*demand and primary_resource < bins_i[i+1]*demand\n",
    "            condition_j = secondary_resource >= bins_j[j]*demand and secondary_resource < bins_j[j+1]*demand\n",
    "        \n",
    "        elif j == len(bins_j)-1 and i < len(bins_i)-1: # boundary of secondary resource bins\n",
    "            condition_i = primary_resource >= bins_i[i]*demand and primary_resource < bins_i[i+1]*demand\n",
    "            condition_j = secondary_resource >= bins_j[j]*demand\n",
    "\n",
    "        elif i == len(bins_i)-1 and j < len(bins_j)-1: # boundary of primary resource bins\n",
    "            condition_i = primary_resource >= bins_i[i]*demand\n",
    "            condition_j = secondary_resource >= bins_j[j]*demand and secondary_resource < bins_j[j+1]*demand\n",
    "        \n",
    "        elif i == len(bins_i)-1 and j == len(bins_j)-1: # boundary of both primary and secondary resource bins\n",
    "            condition_i = primary_resource >= bins_i[i]*demand\n",
    "            condition_j = secondary_resource >= bins_j[j]*demand\n",
    "\n",
    "        curtailment_tech_ij[j,i] = beta_tech_renewable.loc[bins_j[j],bins_i[i]]*act_tech if condition_i and condition_j else 0\n",
    "\n",
    "tech_term_series = pd.Series(curtailment_tech_ij).sort_index()\n",
    "tech_term_sum = tech_term_series.sum()"
   ]
  },
  {
   "cell_type": "markdown",
   "metadata": {},
   "source": [
    "Calculate total curtailment:"
   ]
  },
  {
   "cell_type": "code",
   "execution_count": 361,
   "metadata": {},
   "outputs": [],
   "source": [
    "total_curtailment = base_term_sum + secondary_term_sum + tech_term_sum # percentage of demand"
   ]
  },
  {
   "cell_type": "code",
   "execution_count": 363,
   "metadata": {},
   "outputs": [
    {
     "data": {
      "text/plain": [
       "0    0.070398\n",
       "dtype: float64"
      ]
     },
     "execution_count": 363,
     "metadata": {},
     "output_type": "execute_result"
    }
   ],
   "source": [
    "base_term_sum"
   ]
  },
  {
   "cell_type": "code",
   "execution_count": 364,
   "metadata": {},
   "outputs": [
    {
     "data": {
      "text/plain": [
       "0    60.036766\n",
       "dtype: float64"
      ]
     },
     "execution_count": 364,
     "metadata": {},
     "output_type": "execute_result"
    }
   ],
   "source": [
    "secondary_term_sum"
   ]
  },
  {
   "cell_type": "code",
   "execution_count": 362,
   "metadata": {},
   "outputs": [
    {
     "data": {
      "text/plain": [
       "0    60.107164\n",
       "dtype: float64"
      ]
     },
     "execution_count": 362,
     "metadata": {},
     "output_type": "execute_result"
    }
   ],
   "source": [
    "total_curtailment"
   ]
  }
 ],
 "metadata": {
  "kernelspec": {
   "display_name": "pypsa-eur",
   "language": "python",
   "name": "python3"
  },
  "language_info": {
   "codemirror_mode": {
    "name": "ipython",
    "version": 3
   },
   "file_extension": ".py",
   "mimetype": "text/x-python",
   "name": "python",
   "nbconvert_exporter": "python",
   "pygments_lexer": "ipython3",
   "version": "3.10.10"
  }
 },
 "nbformat": 4,
 "nbformat_minor": 2
}
