{
 "cells": [
  {
   "cell_type": "code",
   "execution_count": 1,
   "metadata": {},
   "outputs": [
    {
     "data": {
      "application/javascript": "if (typeof IPython !== 'undefined') { IPython.OutputArea.prototype._should_scroll = function(lines){ return false; }}",
      "text/plain": [
       "<IPython.core.display.Javascript object>"
      ]
     },
     "metadata": {},
     "output_type": "display_data"
    }
   ],
   "source": [
    "import message_ix\n",
    "import ixmp as ix\n",
    "from message_ix.utils import make_df\n",
    "from itertools import product\n",
    "from timeit import default_timer as timer\n",
    "import pandas as pd\n",
    "import numpy as np\n",
    "import warnings\n",
    "warnings.filterwarnings('ignore')\n",
    "\n",
    "import matplotlib.pyplot as plt\n",
    "fs = 24\n",
    "plt.style.use('seaborn-ticks')\n",
    "plt.rcParams['axes.labelsize'] = fs\n",
    "plt.rcParams['xtick.labelsize'] = fs\n",
    "plt.rcParams['ytick.labelsize'] = fs\n",
    "plt.rcParams['xtick.direction'] = 'out'\n",
    "plt.rcParams['ytick.direction'] = 'out'\n",
    "plt.rcParams['axes.axisbelow'] = True\n"
   ]
  },
  {
   "cell_type": "markdown",
   "metadata": {},
   "source": [
    "### Steps taken:\n",
    "1. Read curtailment parameters derived from PyPSA-Eur\n",
    "2. Load scenario in MESSAGEix-GLOBIOM\n",
    "3. Technology linkage (adding SDES and LDES)\n",
    "4. Add curtailment technologies and relations to the scenario\n",
    "5. Solve scenario"
   ]
  },
  {
   "cell_type": "markdown",
   "metadata": {},
   "source": [
    "### Step 1) fetch curtailment parameters"
   ]
  },
  {
   "cell_type": "markdown",
   "metadata": {},
   "source": [
    "Read data and define dictionaries:"
   ]
  },
  {
   "cell_type": "code",
   "execution_count": 2,
   "metadata": {},
   "outputs": [],
   "source": [
    "# gamma coefficients (marginal curtailment rates)\n",
    "path = \"parameters/\"\n",
    "gamma_ij_wind = pd.read_csv(path + \"gamma_ij_wind_primary.csv\",index_col=0).dropna()\n",
    "gamma_ij_solar = pd.read_csv(path + \"gamma_ij_solar_primary.csv\",index_col=0).dropna()\n",
    "\n",
    "# beta coefficients (counter acting term from renewable integration support measures)\n",
    "techs = [\"LDES\",\"SDES\"] \n",
    "beta_tech_wind = {}\n",
    "beta_tech_solar = {}\n",
    "for tech in techs:\n",
    "    beta_tech_wind[tech] = pd.read_csv(path + \"beta_\"+tech+\"_wind.csv\",index_col=0).dropna()\n",
    "    beta_tech_solar[tech] = pd.read_csv(path + \"beta_\"+tech+\"_wind.csv\",index_col=0).dropna()\n",
    "\n",
    "# renewable shares\n",
    "wind_shares_pypsa = pd.read_csv(path + \"wind_shares.csv\",index_col=0).loc[gamma_ij_wind.index]\n",
    "solar_shares_pypsa = pd.read_csv(path + \"solar_shares.csv\",index_col=0).loc[gamma_ij_solar.index]\n",
    "\n",
    "# create dictionaries that contain the parameters\n",
    "gamma_dict = gamma_ij_solar.to_dict()[\"0\"]\n",
    "gamma_wind_dict = gamma_ij_wind.to_dict()[\"0\"]\n",
    "gamma_dict.update(gamma_wind_dict) # dictionary containing all gamma coefficients\n",
    "\n",
    "beta_dict = {}\n",
    "for tech in techs:\n",
    "    beta_dict[tech] = beta_tech_wind[tech].to_dict()[\"0\"]\n",
    "\n",
    "renewable_penetration_dict = solar_shares_pypsa.to_dict()[\"0\"]\n",
    "wind_penetration = wind_shares_pypsa.to_dict()[\"0\"]\n",
    "renewable_penetration_dict.update(wind_penetration)"
   ]
  },
  {
   "cell_type": "markdown",
   "metadata": {},
   "source": [
    "Initialize relations:"
   ]
  },
  {
   "cell_type": "code",
   "execution_count": 4,
   "metadata": {},
   "outputs": [
    {
     "name": "stdout",
     "output_type": "stream",
     "text": [
      "{'vre_curtailment_w1s1': [{'wind_curtailment1': 0.0037371249171338, 'solar_curtailment1': 0.002290072586197}], 'vre_curtailment_w1s2': [{'wind_curtailment1': 0.0276494369460103, 'solar_curtailment2': 0.2527864681633947}], 'vre_curtailment_w1s3': [{'wind_curtailment1': 0.0097918369226165, 'solar_curtailment3': 0.4818535505889985}], 'vre_curtailment_w1s4': [{'wind_curtailment1': 0.0010403098686803, 'solar_curtailment4': 0.1559578472451435}], 'vre_curtailment_w1s5': [{'wind_curtailment1': -0.001500484208699, 'solar_curtailment5': 0.0701529611080714}]}\n",
      "{'solar_curtailment_1': 'solar_curtailment1', 'solar_curtailment_2': 'solar_curtailment2', 'solar_curtailment_3': 'solar_curtailment3', 'solar_curtailment_4': 'solar_curtailment4', 'solar_curtailment_5': 'solar_curtailment5'}\n"
     ]
    }
   ],
   "source": [
    "# number of bins (determined from the PyPSA-Eur data):\n",
    "bins = list(set(renewable_penetration_dict.values()))\n",
    "bins.sort()\n",
    "\n",
    "bins_dict = {}\n",
    "curt_relation = {} # i = solar, j = wind\n",
    "curt_relation_tech = {}\n",
    "new_bins = {}\n",
    "prefix = \"vre\" # prefix of relation name\n",
    "for i in range(len(bins)): # wind index\n",
    "    for j in range(len(bins)): # solar index\n",
    "        \n",
    "        w = \"wind_curtailment_w\" + str(i) + \"s\" + str(j) # index naming in the data achieved from PyPSA-Eur\n",
    "        s = \"solar_curtailment_s\" + str(j) + \"w\" + str(i) # index naming in the data achieved from PyPSA-Eur\n",
    "\n",
    "        wind_curt_name = \"wind_curtailment\" + str(i+1) # naming of wind curtailment technology in MESSAGEix-GLOBIOM\n",
    "        solar_curt_name = \"solar_curtailment\" + str(j+1) # naming of solar curtailment technology in MESSAGEix-GLOBIOM\n",
    "        # we shift the index naming by one, since the index in PyPSA-Eur starts with 0, but in MESSAGEix-GLOBIOM with 1\n",
    "\n",
    "        if (w not in gamma_ij_wind.index) and (s not in gamma_ij_solar.index): \n",
    "            continue\n",
    "        \n",
    "        new_bins[prefix + \"_curtailment_w\" + str(i+1) + \"s\" + str(j+1)] = [wind_curt_name, solar_curt_name]\n",
    "        \n",
    "        curt_relation[prefix + \"_curtailment_w\" + str(i+1) + \"s\" + str(j+1)] = [{wind_curt_name:gamma_ij_wind.loc[w].item(),\n",
    "                                                                                solar_curt_name:gamma_ij_solar.loc[s].item()}]\n",
    "        \n",
    "        if j == 0:\n",
    "            curt_relation_tech[\"wind_curtailment_\" + str(i+1)] = wind_curt_name\n",
    "            bins_dict[\"wind_curtailment_\" + str(i+1)] = bins[i]\n",
    "        \n",
    "        if i == 0:\n",
    "            curt_relation_tech[\"solar_curtailment_\" + str(j+1)] = solar_curt_name\n",
    "            bins_dict[\"solar_curtailment_\" + str(j+1)] = bins[j]\n",
    "\n",
    "curt_relation_tech = {k: curt_relation_tech[k] for k in sorted(curt_relation_tech)}\n",
    "\n",
    "# print first five entries of the dictionaries\n",
    "print({k: curt_relation[k] for k in list(curt_relation)[:5]})\n",
    "print({k: curt_relation_tech[k] for k in list(curt_relation_tech)[:5]})"
   ]
  },
  {
   "cell_type": "code",
   "execution_count": 13,
   "metadata": {},
   "outputs": [
    {
     "data": {
      "text/plain": [
       "{'vre_curtailment_w1s1': [{'wind_curtailment1': 0.0037371249171338,\n",
       "   'solar_curtailment1': 0.002290072586197}],\n",
       " 'vre_curtailment_w1s2': [{'wind_curtailment1': 0.0276494369460103,\n",
       "   'solar_curtailment2': 0.2527864681633947}],\n",
       " 'vre_curtailment_w1s3': [{'wind_curtailment1': 0.0097918369226165,\n",
       "   'solar_curtailment3': 0.4818535505889985}],\n",
       " 'vre_curtailment_w1s4': [{'wind_curtailment1': 0.0010403098686803,\n",
       "   'solar_curtailment4': 0.1559578472451435}],\n",
       " 'vre_curtailment_w1s5': [{'wind_curtailment1': -0.001500484208699,\n",
       "   'solar_curtailment5': 0.0701529611080714}],\n",
       " 'vre_curtailment_w1s6': [{'wind_curtailment1': -0.0001152394927645,\n",
       "   'solar_curtailment6': 0.0193965362823661}],\n",
       " 'vre_curtailment_w1s7': [{'wind_curtailment1': 0.0016698085532441,\n",
       "   'solar_curtailment7': -0.0010884933783342}],\n",
       " 'vre_curtailment_w2s1': [{'wind_curtailment2': 0.0325843608834032,\n",
       "   'solar_curtailment1': -0.0021455699648128}],\n",
       " 'vre_curtailment_w2s2': [{'wind_curtailment2': 0.0464660299521888,\n",
       "   'solar_curtailment2': -0.0174800380958543}],\n",
       " 'vre_curtailment_w2s3': [{'wind_curtailment2': 0.0157834095447442,\n",
       "   'solar_curtailment3': 0.0500089815814039}],\n",
       " 'vre_curtailment_w2s4': [{'wind_curtailment2': 0.0094913512829119,\n",
       "   'solar_curtailment4': -0.009885400415551}],\n",
       " 'vre_curtailment_w2s5': [{'wind_curtailment2': 0.0057138118159365,\n",
       "   'solar_curtailment5': -0.0126124659864002}],\n",
       " 'vre_curtailment_w2s6': [{'wind_curtailment2': 0.001694656096721,\n",
       "   'solar_curtailment6': -0.0010893379826498}],\n",
       " 'vre_curtailment_w2s7': [{'wind_curtailment2': 0.0026704697710982,\n",
       "   'solar_curtailment7': -0.0067619315525186}],\n",
       " 'vre_curtailment_w3s1': [{'wind_curtailment3': 0.0743415789838803,\n",
       "   'solar_curtailment1': 2.51116573127646e-05}],\n",
       " 'vre_curtailment_w3s2': [{'wind_curtailment3': 0.0622500010110364,\n",
       "   'solar_curtailment2': -0.0163138681851086}],\n",
       " 'vre_curtailment_w3s3': [{'wind_curtailment3': -0.0093293502644094,\n",
       "   'solar_curtailment3': 0.0414113457890954}],\n",
       " 'vre_curtailment_w3s4': [{'wind_curtailment3': -0.0060088843663585,\n",
       "   'solar_curtailment4': -0.0104876707990579}],\n",
       " 'vre_curtailment_w3s5': [{'wind_curtailment3': -0.002077611981622,\n",
       "   'solar_curtailment5': -0.0109272934118066}],\n",
       " 'vre_curtailment_w3s6': [{'wind_curtailment3': 0.0015307655288203,\n",
       "   'solar_curtailment6': -0.0076930356385683}],\n",
       " 'vre_curtailment_w3s7': [{'wind_curtailment3': -0.0039930246260487,\n",
       "   'solar_curtailment7': 0.0059067955027846}],\n",
       " 'vre_curtailment_w4s1': [{'wind_curtailment4': 0.1612347508479485,\n",
       "   'solar_curtailment1': 0.0002248663332009}],\n",
       " 'vre_curtailment_w4s2': [{'wind_curtailment4': -0.0038769198416061,\n",
       "   'solar_curtailment2': -0.0102971445530176}],\n",
       " 'vre_curtailment_w4s3': [{'wind_curtailment4': 0.004707582120271,\n",
       "   'solar_curtailment3': 0.0137721783294131}],\n",
       " 'vre_curtailment_w4s4': [{'wind_curtailment4': -0.0049994381748085,\n",
       "   'solar_curtailment4': 0.0065351338285648}],\n",
       " 'vre_curtailment_w4s5': [{'wind_curtailment4': -0.0004373264711435,\n",
       "   'solar_curtailment5': -0.0108742790143356}],\n",
       " 'vre_curtailment_w4s6': [{'wind_curtailment4': -0.0046709135383384,\n",
       "   'solar_curtailment6': 0.0046050244468618}],\n",
       " 'vre_curtailment_w5s1': [{'wind_curtailment5': 0.1727014760821435,\n",
       "   'solar_curtailment1': 0.0001842416433169}],\n",
       " 'vre_curtailment_w5s2': [{'wind_curtailment5': -0.0364448806245905,\n",
       "   'solar_curtailment2': -0.0062817509782944}],\n",
       " 'vre_curtailment_w5s3': [{'wind_curtailment5': -0.0115227388324798,\n",
       "   'solar_curtailment3': 0.010644199465986}],\n",
       " 'vre_curtailment_w5s4': [{'wind_curtailment5': 0.0053706574816856,\n",
       "   'solar_curtailment4': -0.0052461096094195}],\n",
       " 'vre_curtailment_w5s5': [{'wind_curtailment5': -0.0022372103108303,\n",
       "   'solar_curtailment5': 0.0045059120746684}],\n",
       " 'vre_curtailment_w5s6': [{'wind_curtailment5': 0.0033001114006652,\n",
       "   'solar_curtailment6': -0.0048650913370346}],\n",
       " 'vre_curtailment_w6s1': [{'wind_curtailment6': 0.0750204608895317,\n",
       "   'solar_curtailment1': 0.0003061461996072}],\n",
       " 'vre_curtailment_w6s2': [{'wind_curtailment6': 0.0397129160376203,\n",
       "   'solar_curtailment2': -0.0048022663082516}],\n",
       " 'vre_curtailment_w6s3': [{'wind_curtailment6': 0.0073021400064644,\n",
       "   'solar_curtailment3': -0.0011049382754454}],\n",
       " 'vre_curtailment_w6s4': [{'wind_curtailment6': 0.0008740404097277,\n",
       "   'solar_curtailment4': 0.0059019515492654}],\n",
       " 'vre_curtailment_w6s5': [{'wind_curtailment6': 0.003453824097697,\n",
       "   'solar_curtailment5': -0.0021426323594507}],\n",
       " 'vre_curtailment_w7s1': [{'wind_curtailment7': 0.1280669964097313,\n",
       "   'solar_curtailment1': 0.0016478703061076}],\n",
       " 'vre_curtailment_w7s2': [{'wind_curtailment7': -0.0737476597616503,\n",
       "   'solar_curtailment2': -0.0060620997267712}],\n",
       " 'vre_curtailment_w7s3': [{'wind_curtailment7': -0.0083586404576977,\n",
       "   'solar_curtailment3': 0.0052372666177843}]}"
      ]
     },
     "execution_count": 13,
     "metadata": {},
     "output_type": "execute_result"
    }
   ],
   "source": [
    "curt_relation"
   ]
  },
  {
   "cell_type": "code",
   "execution_count": 17,
   "metadata": {},
   "outputs": [
    {
     "data": {
      "text/plain": [
       "{'LDES': {'wind_curtailment_w0s0': 0.0,\n",
       "  'wind_curtailment_w1s0': -0.151073163890795,\n",
       "  'wind_curtailment_w2s0': -0.1175794952409295,\n",
       "  'wind_curtailment_w3s0': -0.2443624203034516,\n",
       "  'wind_curtailment_w4s0': -0.1469079789208703,\n",
       "  'wind_curtailment_w5s0': -0.1162714919100458,\n",
       "  'wind_curtailment_w6s0': -0.3084433978921929,\n",
       "  'wind_curtailment_w0s1': -0.0017079131591014,\n",
       "  'wind_curtailment_w1s1': -0.101198850734116,\n",
       "  'wind_curtailment_w2s1': -0.274592162883805,\n",
       "  'wind_curtailment_w3s1': 0.0165531323066479,\n",
       "  'wind_curtailment_w4s1': -0.1007650384494281,\n",
       "  'wind_curtailment_w5s1': -0.0511300657309916,\n",
       "  'wind_curtailment_w6s1': 0.1529576906533484,\n",
       "  'wind_curtailment_w0s2': -0.0030386957562583,\n",
       "  'wind_curtailment_w1s2': -0.0113245313899735,\n",
       "  'wind_curtailment_w2s2': 0.1093977253324239,\n",
       "  'wind_curtailment_w3s2': -0.0721683900274143,\n",
       "  'wind_curtailment_w4s2': 0.0208314873236911,\n",
       "  'wind_curtailment_w5s2': -0.0443325484289836,\n",
       "  'wind_curtailment_w6s2': 0.3258091220028736,\n",
       "  'wind_curtailment_w0s3': -0.0364121971418489,\n",
       "  'wind_curtailment_w1s3': 0.0949907065846365,\n",
       "  'wind_curtailment_w2s3': -0.0081245154195919,\n",
       "  'wind_curtailment_w3s3': -0.0268215874972118,\n",
       "  'wind_curtailment_w4s3': -0.00751090453026,\n",
       "  'wind_curtailment_w5s3': 0.0326390711156672,\n",
       "  'wind_curtailment_w0s4': 0.0326004431975057,\n",
       "  'wind_curtailment_w1s4': -0.0108590760745321,\n",
       "  'wind_curtailment_w2s4': -0.0381734055725546,\n",
       "  'wind_curtailment_w3s4': 0.0833941759056674,\n",
       "  'wind_curtailment_w4s4': -0.0733138564304535,\n",
       "  'wind_curtailment_w5s4': 0.1529497093288949,\n",
       "  'wind_curtailment_w0s5': -0.0038727103393377,\n",
       "  'wind_curtailment_w1s5': -0.0604834235571637,\n",
       "  'wind_curtailment_w2s5': 0.0851622726192595,\n",
       "  'wind_curtailment_w3s5': -0.0254094339398183,\n",
       "  'wind_curtailment_w4s5': 0.0152363207407826,\n",
       "  'wind_curtailment_w0s6': 0.0218319421502195,\n",
       "  'wind_curtailment_w1s6': -0.038225606098907,\n",
       "  'wind_curtailment_w2s6': 0.0051343073157369},\n",
       " 'SDES': {'wind_curtailment_w0s0': 0.0,\n",
       "  'wind_curtailment_w1s0': -0.0380792085030879,\n",
       "  'wind_curtailment_w2s0': -0.0111883839339562,\n",
       "  'wind_curtailment_w3s0': -0.1257149587643655,\n",
       "  'wind_curtailment_w4s0': -0.290801226301565,\n",
       "  'wind_curtailment_w5s0': 0.0834869448722754,\n",
       "  'wind_curtailment_w6s0': -0.1993479191463967,\n",
       "  'wind_curtailment_w0s1': -0.014192232464918,\n",
       "  'wind_curtailment_w1s1': -0.088806406856694,\n",
       "  'wind_curtailment_w2s1': -0.0728809878560282,\n",
       "  'wind_curtailment_w3s1': 0.0194961502343933,\n",
       "  'wind_curtailment_w4s1': 0.1870627240174301,\n",
       "  'wind_curtailment_w5s1': -0.1534211823198466,\n",
       "  'wind_curtailment_w6s1': 0.1490417445494587,\n",
       "  'wind_curtailment_w0s2': -0.0020497626127999,\n",
       "  'wind_curtailment_w1s2': 0.0187682262943938,\n",
       "  'wind_curtailment_w2s2': 0.0302125388955524,\n",
       "  'wind_curtailment_w3s2': 0.0562534954257273,\n",
       "  'wind_curtailment_w4s2': 0.0553350857666895,\n",
       "  'wind_curtailment_w5s2': 0.0320863847143278,\n",
       "  'wind_curtailment_w6s2': 0.0643523570404752,\n",
       "  'wind_curtailment_w0s3': -0.0011886502121486,\n",
       "  'wind_curtailment_w1s3': 0.0357030481792055,\n",
       "  'wind_curtailment_w2s3': 0.0372720543933142,\n",
       "  'wind_curtailment_w3s3': 0.0373094774638586,\n",
       "  'wind_curtailment_w4s3': 0.0531071382099472,\n",
       "  'wind_curtailment_w5s3': 0.0092056327111813,\n",
       "  'wind_curtailment_w0s4': 0.0063512933003032,\n",
       "  'wind_curtailment_w1s4': 0.0316873188105048,\n",
       "  'wind_curtailment_w2s4': 0.0232387330179081,\n",
       "  'wind_curtailment_w3s4': 0.0208123139551343,\n",
       "  'wind_curtailment_w4s4': 0.0243036954056273,\n",
       "  'wind_curtailment_w5s4': 0.0207122692251617,\n",
       "  'wind_curtailment_w0s5': 0.0051255545518829,\n",
       "  'wind_curtailment_w1s5': 0.0279657895365453,\n",
       "  'wind_curtailment_w2s5': 0.0075119080205777,\n",
       "  'wind_curtailment_w3s5': 0.0265419373801729,\n",
       "  'wind_curtailment_w4s5': 0.0094050105787739,\n",
       "  'wind_curtailment_w0s6': 0.0049493587077762,\n",
       "  'wind_curtailment_w1s6': 0.0341170412839924,\n",
       "  'wind_curtailment_w2s6': 0.0233678054875247}}"
      ]
     },
     "execution_count": 17,
     "metadata": {},
     "output_type": "execute_result"
    }
   ],
   "source": [
    "beta_dict"
   ]
  },
  {
   "cell_type": "markdown",
   "metadata": {},
   "source": [
    "### Step 2) load scenario in MESSAGEix-GLOBIOM"
   ]
  },
  {
   "cell_type": "code",
   "execution_count": 5,
   "metadata": {},
   "outputs": [],
   "source": [
    "# load ixmp database\n",
    "mp = ix.Platform('local',jvmargs=[\"-Xmx8G\"])\n",
    "solve_scenario = True # if True, solving scenario at the end\n",
    "regions = [\"R11_WEU\"]\n",
    "\n",
    "# reference scenario: \n",
    "sc_ref = message_ix.Scenario(mp, model=\"MESSAGEix-GLOBIOM\", scenario=\"ENGAGE_SSP2_EN_NPi2020_500\",version=1)\n",
    "model = \"MESSAGEix-GLOBIOM\"\n",
    "scen = \"ENGAGE_SSP2_EN_NPi2020_500\"\n",
    "\n",
    "# clone scenario and add modifications\n",
    "sc = sc_ref.clone(model=model, scenario=scen, keep_solution=False)\n",
    "\n",
    "sc.check_out()\n",
    "\n",
    "years = sc.set('year')"
   ]
  },
  {
   "cell_type": "markdown",
   "metadata": {},
   "source": [
    "### Step 3) Technology linkage\n",
    "\n",
    "**LDES**\n",
    "- duration (E/G_d): 179.6 hrs (average of all scenarios)\n",
    "- Efficiency (round-trip): 0.48\n",
    "- Technology cost: \n",
    "    - Charge link: 450 EUR/kW (+ 2% FOM)\n",
    "    - Storage: 12 EUR/kWh (+ 2% FOM)\n",
    "    - Discharge link: 500 EUR/kW (+ 2% FOM) \n",
    "    Aggregated cost: 1/efficiency * 450 EUR/kW + duration * 12 EUR/kWh + 500 EUR/kW = 3,593 EUR/kW\n",
    "- Capacity factor: 20.5%\n",
    "- Lifetime: 20 years\n",
    "\n",
    "**SDES**\n",
    "- duration (E/G_d): 6 hrs\n",
    "- Efficiency (round-trip): 0.94\n",
    "- Technology cost: \n",
    "    - Charge link (battery inverter/converter): 160 EUR/kW\n",
    "    - Storage: 142 EUR/kWh\n",
    "    - Discharge link: 0 EUR/kW\n",
    "    Aggregated cost: 1/effficiency * 160 EUR/kW + duration * 142 EUR/kWh + 0 EUR/kW = 1,022 EUR/kW\n",
    "- Capacity factor: 11.9%\n",
    "- Lifetime: 25 years\n",
    "\n",
    "\n",
    "In MESSAGEix-GLOBIOM, the storage tech needs to have the following attributes defined:\n",
    "- output (par)\n",
    "- inv_cost (par)\n",
    "- technology (set)\n",
    "- var_cost (par)\n",
    "- technical_lifetime (par)\n",
    "- capacity_factor (par)"
   ]
  },
  {
   "cell_type": "markdown",
   "metadata": {},
   "source": [
    "Storage technology attributes from PyPSA-Eur:"
   ]
  },
  {
   "cell_type": "code",
   "execution_count": 8,
   "metadata": {},
   "outputs": [],
   "source": [
    "ldes_inv_cost = 3593 # EUR/kW\n",
    "sdes_inv_cost = 1022 # EUR/kW\n",
    "\n",
    "ldes_lifetime = 20 # years\n",
    "sdes_lifetime = 25 # years\n",
    "\n",
    "ldes_capacity_factor = 0.205\n",
    "sdes_capacity_factor = 0.119"
   ]
  },
  {
   "cell_type": "markdown",
   "metadata": {},
   "source": [
    "Define pandas dataframes with storage attributes:"
   ]
  },
  {
   "cell_type": "code",
   "execution_count": 9,
   "metadata": {},
   "outputs": [],
   "source": [
    "def add_storage_tech(tech, years, capacity_factor, inv_cost, lifetime):\n",
    "\n",
    "    df_output = make_df('output',\n",
    "                            node_loc = \"R11_WEU\",\n",
    "                            technology = tech,\n",
    "                            year_vtg = years,\n",
    "                            year_act = years,\n",
    "                            mode = \"M1\",\n",
    "                            node_dest = 'R11_WEU',\n",
    "                            commodity = 'exports',\n",
    "                            level = \"secondary\",\n",
    "                            time = \"year\",\n",
    "                            time_dest = \"year\",\n",
    "                            value = 1,\n",
    "                            unit = \"GWa\",\n",
    "                            )\n",
    "\n",
    "    df_CF = make_df('capacity_factor',\n",
    "                            node_loc = \"R11_WEU\",\n",
    "                            technology = tech,\n",
    "                            year_vtg = years,\n",
    "                            year_act = years,\n",
    "                            time = \"year\",\n",
    "                            value = capacity_factor,\n",
    "                            unit = \"%\",\n",
    "                            )\n",
    "\n",
    "    df_inv_cost = make_df('inv_cost',\n",
    "                            node_loc=\"R11_WEU\",\n",
    "                            technology=tech,\n",
    "                            year_vtg=years,\n",
    "                            value=inv_cost,\n",
    "                            unit=\"USD/GWa\",\n",
    "                            )\n",
    "\n",
    "    df_lifetime = make_df('technical_lifetime',\n",
    "                            node_loc=\"R11_WEU\",\n",
    "                            technology=tech,\n",
    "                            year_vtg=years,\n",
    "                            value=lifetime,\n",
    "                            unit=\"y\")\n",
    "    \n",
    "    sc.add_set(\"technology\", tech)\n",
    "    sc.add_par('output',df_output)\n",
    "    sc.add_par(\"capacity_factor\", df_CF)\n",
    "    sc.add_par('inv_cost',df_inv_cost)\n",
    "    sc.add_par('technical_lifetime',df_lifetime)\n",
    "    \n",
    "    # sc.idx_names('capacity_factor')"
   ]
  },
  {
   "cell_type": "markdown",
   "metadata": {},
   "source": [
    "Add storage attributes:"
   ]
  },
  {
   "cell_type": "code",
   "execution_count": 10,
   "metadata": {},
   "outputs": [],
   "source": [
    "add_storage_tech(\"LDES\", years, ldes_capacity_factor, ldes_inv_cost, ldes_lifetime)\n",
    "add_storage_tech(\"SDES\", years, sdes_capacity_factor, sdes_inv_cost, sdes_lifetime)"
   ]
  },
  {
   "cell_type": "markdown",
   "metadata": {},
   "source": [
    "### Step 4) Add curtailment technologies and relations to the scenario"
   ]
  },
  {
   "cell_type": "code",
   "execution_count": 11,
   "metadata": {},
   "outputs": [],
   "source": [
    "# Curtailment relations and technologies (for checking)\n",
    "curtail_relations = [x for x in set(sc.set(\"relation\")) if \"curtailment\" in x]\n",
    "curtail_techs = [x for x in set(sc.set(\"technology\")) if \"curtailment\" in x]\n",
    "\n",
    "# Add wind/solar curtailment data for new bins (not present in the old data)\n",
    "new_relations = [x for x in bins_dict.keys() if x not in set(sc.set(\"relation\"))]\n",
    "new_techs = [curt_relation_tech[x] for x in new_relations]\n",
    "\n",
    "# Add new set elements to the scenario\n",
    "sc.add_set(\"technology\", new_techs) # here, new technologies cover the ones for \"wind_curtailment_{}\" and \"solar_curtailment_{}\".\n",
    "sc.add_set(\"relation\", new_relations) # here, new relations cover the ones for \"wind_curtailment_{}\" and \"solar_curtailment_{}\"."
   ]
  },
  {
   "cell_type": "code",
   "execution_count": 12,
   "metadata": {},
   "outputs": [
    {
     "data": {
      "text/plain": [
       "['solar_curtailment_4',\n",
       " 'solar_curtailment_5',\n",
       " 'solar_curtailment_6',\n",
       " 'solar_curtailment_7',\n",
       " 'wind_curtailment_4',\n",
       " 'wind_curtailment_5',\n",
       " 'wind_curtailment_6',\n",
       " 'wind_curtailment_7']"
      ]
     },
     "execution_count": 12,
     "metadata": {},
     "output_type": "execute_result"
    }
   ],
   "source": [
    "new_relations"
   ]
  },
  {
   "cell_type": "code",
   "execution_count": 18,
   "metadata": {},
   "outputs": [
    {
     "name": "stdout",
     "output_type": "stream",
     "text": [
      "- New theoretical curtailment relations configured.\n"
     ]
    }
   ],
   "source": [
    "# In this step, we calculate the theoretical (base) curtailment, i.e., we don't consider\n",
    "# the role of any curtailment-reducing technologies (contributors) like storage etc.\n",
    "parname = \"relation_activity\"\n",
    "for rel, region in product(sorted(bins_dict.keys()), regions):\n",
    "    # Load existing data (and use it later for configuring the new data)\n",
    "    old = sc_ref.par(parname, {\"node_loc\": region, \n",
    "                               \"relation\": rel})\n",
    "\n",
    "    # If there is no data for this bin, use the data of the previous bin\n",
    "    if old.empty:\n",
    "        rel_pre = (\"\").join(\n",
    "            [rel.split(\"_curt\")[0],\n",
    "             \"_curtailment_\",\n",
    "             str(int(rel.split(\"ment_\")[1]) - 1)]\n",
    "            )\n",
    "        old = sc_ref.par(parname, {\"node_loc\": region, \"relation\": rel_pre})\n",
    "\n",
    "        # Replace relation and technology names for this bin\n",
    "        curtail_tec = curt_relation_tech[rel_pre]\n",
    "        old[\"relation\"] = rel\n",
    "        old.loc[old[\"technology\"] == curtail_tec, \"technology\"] = curt_relation_tech[rel]\n",
    "\n",
    "    else:\n",
    "        curtail_tec = curt_relation_tech[rel]\n",
    "        \n",
    "    # Generate theoretical curtailment bins (with contributor technologies, but\n",
    "    # these will be removed at the end, see Step (5))\n",
    "    new = old.copy()\n",
    "    # Edit the % share of wind/solar bins (Notice (-) sign)\n",
    "    new.loc[new[\"technology\"] == \"elec_t_d\", \"value\"] = -bins_dict[rel]\n",
    "\n",
    "    # Add theoretical curtailment to the scenario\n",
    "    sc.add_par(parname, new)\n",
    "\n",
    "    # Add an upper bound for the theoretical curtailment (needed for new bins)\n",
    "    bound = new.drop_duplicates([\"node_rel\", \"year_rel\", \"relation\"]).copy()\n",
    "    bound[\"value\"] = 0\n",
    "    sc.add_par(\"relation_upper\", bound)\n",
    "\n",
    "    # Update the data of \"input\" electricity for this curtailment technology\n",
    "    inp = sc.par(\"input\", {\"node_loc\": region, \"technology\": curtail_tec})\n",
    "    inp[\"technology\"] = curt_relation_tech[rel] # is needed in case a new bin is added\n",
    "    inp[\"value\"] = 1\n",
    "    sc.add_par(\"input\", inp)\n",
    "print(\"- New theoretical curtailment relations configured.\")\n"
   ]
  },
  {
   "cell_type": "code",
   "execution_count": null,
   "metadata": {},
   "outputs": [
    {
     "data": {
      "text/plain": [
       "{'solar_curtailment_1': 'solar_curtailment1',\n",
       " 'solar_curtailment_2': 'solar_curtailment2',\n",
       " 'solar_curtailment_3': 'solar_curtailment3',\n",
       " 'solar_curtailment_4': 'solar_curtailment4',\n",
       " 'solar_curtailment_5': 'solar_curtailment5',\n",
       " 'solar_curtailment_6': 'solar_curtailment6',\n",
       " 'solar_curtailment_7': 'solar_curtailment7',\n",
       " 'wind_curtailment_1': 'wind_curtailment1',\n",
       " 'wind_curtailment_2': 'wind_curtailment2',\n",
       " 'wind_curtailment_3': 'wind_curtailment3',\n",
       " 'wind_curtailment_4': 'wind_curtailment4',\n",
       " 'wind_curtailment_5': 'wind_curtailment5',\n",
       " 'wind_curtailment_6': 'wind_curtailment6',\n",
       " 'wind_curtailment_7': 'wind_curtailment7'}"
      ]
     },
     "metadata": {},
     "output_type": "display_data"
    }
   ],
   "source": [
    "curt_relation_tech"
   ]
  },
  {
   "cell_type": "markdown",
   "metadata": {},
   "source": [
    "Add new bins to the set of relations and new technologies to technology in the scenario:"
   ]
  },
  {
   "cell_type": "code",
   "execution_count": 20,
   "metadata": {},
   "outputs": [
    {
     "data": {
      "text/plain": [
       "{'vre_curtailment_w1s1': ['wind_curtailment1', 'solar_curtailment1'],\n",
       " 'vre_curtailment_w1s2': ['wind_curtailment1', 'solar_curtailment2'],\n",
       " 'vre_curtailment_w1s3': ['wind_curtailment1', 'solar_curtailment3'],\n",
       " 'vre_curtailment_w1s4': ['wind_curtailment1', 'solar_curtailment4'],\n",
       " 'vre_curtailment_w1s5': ['wind_curtailment1', 'solar_curtailment5'],\n",
       " 'vre_curtailment_w1s6': ['wind_curtailment1', 'solar_curtailment6'],\n",
       " 'vre_curtailment_w1s7': ['wind_curtailment1', 'solar_curtailment7'],\n",
       " 'vre_curtailment_w2s1': ['wind_curtailment2', 'solar_curtailment1'],\n",
       " 'vre_curtailment_w2s2': ['wind_curtailment2', 'solar_curtailment2'],\n",
       " 'vre_curtailment_w2s3': ['wind_curtailment2', 'solar_curtailment3'],\n",
       " 'vre_curtailment_w2s4': ['wind_curtailment2', 'solar_curtailment4'],\n",
       " 'vre_curtailment_w2s5': ['wind_curtailment2', 'solar_curtailment5'],\n",
       " 'vre_curtailment_w2s6': ['wind_curtailment2', 'solar_curtailment6'],\n",
       " 'vre_curtailment_w2s7': ['wind_curtailment2', 'solar_curtailment7'],\n",
       " 'vre_curtailment_w3s1': ['wind_curtailment3', 'solar_curtailment1'],\n",
       " 'vre_curtailment_w3s2': ['wind_curtailment3', 'solar_curtailment2'],\n",
       " 'vre_curtailment_w3s3': ['wind_curtailment3', 'solar_curtailment3'],\n",
       " 'vre_curtailment_w3s4': ['wind_curtailment3', 'solar_curtailment4'],\n",
       " 'vre_curtailment_w3s5': ['wind_curtailment3', 'solar_curtailment5'],\n",
       " 'vre_curtailment_w3s6': ['wind_curtailment3', 'solar_curtailment6'],\n",
       " 'vre_curtailment_w3s7': ['wind_curtailment3', 'solar_curtailment7'],\n",
       " 'vre_curtailment_w4s1': ['wind_curtailment4', 'solar_curtailment1'],\n",
       " 'vre_curtailment_w4s2': ['wind_curtailment4', 'solar_curtailment2'],\n",
       " 'vre_curtailment_w4s3': ['wind_curtailment4', 'solar_curtailment3'],\n",
       " 'vre_curtailment_w4s4': ['wind_curtailment4', 'solar_curtailment4'],\n",
       " 'vre_curtailment_w4s5': ['wind_curtailment4', 'solar_curtailment5'],\n",
       " 'vre_curtailment_w4s6': ['wind_curtailment4', 'solar_curtailment6'],\n",
       " 'vre_curtailment_w5s1': ['wind_curtailment5', 'solar_curtailment1'],\n",
       " 'vre_curtailment_w5s2': ['wind_curtailment5', 'solar_curtailment2'],\n",
       " 'vre_curtailment_w5s3': ['wind_curtailment5', 'solar_curtailment3'],\n",
       " 'vre_curtailment_w5s4': ['wind_curtailment5', 'solar_curtailment4'],\n",
       " 'vre_curtailment_w5s5': ['wind_curtailment5', 'solar_curtailment5'],\n",
       " 'vre_curtailment_w5s6': ['wind_curtailment5', 'solar_curtailment6'],\n",
       " 'vre_curtailment_w6s1': ['wind_curtailment6', 'solar_curtailment1'],\n",
       " 'vre_curtailment_w6s2': ['wind_curtailment6', 'solar_curtailment2'],\n",
       " 'vre_curtailment_w6s3': ['wind_curtailment6', 'solar_curtailment3'],\n",
       " 'vre_curtailment_w6s4': ['wind_curtailment6', 'solar_curtailment4'],\n",
       " 'vre_curtailment_w6s5': ['wind_curtailment6', 'solar_curtailment5'],\n",
       " 'vre_curtailment_w7s1': ['wind_curtailment7', 'solar_curtailment1'],\n",
       " 'vre_curtailment_w7s2': ['wind_curtailment7', 'solar_curtailment2'],\n",
       " 'vre_curtailment_w7s3': ['wind_curtailment7', 'solar_curtailment3']}"
      ]
     },
     "execution_count": 20,
     "metadata": {},
     "output_type": "execute_result"
    }
   ],
   "source": [
    "new_bins"
   ]
  },
  {
   "cell_type": "code",
   "execution_count": 24,
   "metadata": {},
   "outputs": [
    {
     "data": {
      "text/plain": [
       "{'solar_curtailment_1': 'solar_curtailment1',\n",
       " 'solar_curtailment_2': 'solar_curtailment2',\n",
       " 'solar_curtailment_3': 'solar_curtailment3',\n",
       " 'solar_curtailment_4': 'solar_curtailment4',\n",
       " 'solar_curtailment_5': 'solar_curtailment5',\n",
       " 'solar_curtailment_6': 'solar_curtailment6',\n",
       " 'solar_curtailment_7': 'solar_curtailment7',\n",
       " 'wind_curtailment_1': 'wind_curtailment1',\n",
       " 'wind_curtailment_2': 'wind_curtailment2',\n",
       " 'wind_curtailment_3': 'wind_curtailment3',\n",
       " 'wind_curtailment_4': 'wind_curtailment4',\n",
       " 'wind_curtailment_5': 'wind_curtailment5',\n",
       " 'wind_curtailment_6': 'wind_curtailment6',\n",
       " 'wind_curtailment_7': 'wind_curtailment7'}"
      ]
     },
     "execution_count": 24,
     "metadata": {},
     "output_type": "execute_result"
    }
   ],
   "source": [
    "curt_relation_tech"
   ]
  },
  {
   "cell_type": "code",
   "execution_count": 31,
   "metadata": {},
   "outputs": [
    {
     "data": {
      "text/plain": [
       "{'vre_curtailment_w1s1': ['wind_curtailment1', 'solar_curtailment1'],\n",
       " 'vre_curtailment_w1s2': ['wind_curtailment1', 'solar_curtailment2'],\n",
       " 'vre_curtailment_w1s3': ['wind_curtailment1', 'solar_curtailment3'],\n",
       " 'vre_curtailment_w1s4': ['wind_curtailment1', 'solar_curtailment4'],\n",
       " 'vre_curtailment_w1s5': ['wind_curtailment1', 'solar_curtailment5'],\n",
       " 'vre_curtailment_w1s6': ['wind_curtailment1', 'solar_curtailment6'],\n",
       " 'vre_curtailment_w1s7': ['wind_curtailment1', 'solar_curtailment7'],\n",
       " 'vre_curtailment_w2s1': ['wind_curtailment2', 'solar_curtailment1'],\n",
       " 'vre_curtailment_w2s2': ['wind_curtailment2', 'solar_curtailment2'],\n",
       " 'vre_curtailment_w2s3': ['wind_curtailment2', 'solar_curtailment3'],\n",
       " 'vre_curtailment_w2s4': ['wind_curtailment2', 'solar_curtailment4'],\n",
       " 'vre_curtailment_w2s5': ['wind_curtailment2', 'solar_curtailment5'],\n",
       " 'vre_curtailment_w2s6': ['wind_curtailment2', 'solar_curtailment6'],\n",
       " 'vre_curtailment_w2s7': ['wind_curtailment2', 'solar_curtailment7'],\n",
       " 'vre_curtailment_w3s1': ['wind_curtailment3', 'solar_curtailment1'],\n",
       " 'vre_curtailment_w3s2': ['wind_curtailment3', 'solar_curtailment2'],\n",
       " 'vre_curtailment_w3s3': ['wind_curtailment3', 'solar_curtailment3'],\n",
       " 'vre_curtailment_w3s4': ['wind_curtailment3', 'solar_curtailment4'],\n",
       " 'vre_curtailment_w3s5': ['wind_curtailment3', 'solar_curtailment5'],\n",
       " 'vre_curtailment_w3s6': ['wind_curtailment3', 'solar_curtailment6'],\n",
       " 'vre_curtailment_w3s7': ['wind_curtailment3', 'solar_curtailment7'],\n",
       " 'vre_curtailment_w4s1': ['wind_curtailment4', 'solar_curtailment1'],\n",
       " 'vre_curtailment_w4s2': ['wind_curtailment4', 'solar_curtailment2'],\n",
       " 'vre_curtailment_w4s3': ['wind_curtailment4', 'solar_curtailment3'],\n",
       " 'vre_curtailment_w4s4': ['wind_curtailment4', 'solar_curtailment4'],\n",
       " 'vre_curtailment_w4s5': ['wind_curtailment4', 'solar_curtailment5'],\n",
       " 'vre_curtailment_w4s6': ['wind_curtailment4', 'solar_curtailment6'],\n",
       " 'vre_curtailment_w5s1': ['wind_curtailment5', 'solar_curtailment1'],\n",
       " 'vre_curtailment_w5s2': ['wind_curtailment5', 'solar_curtailment2'],\n",
       " 'vre_curtailment_w5s3': ['wind_curtailment5', 'solar_curtailment3'],\n",
       " 'vre_curtailment_w5s4': ['wind_curtailment5', 'solar_curtailment4'],\n",
       " 'vre_curtailment_w5s5': ['wind_curtailment5', 'solar_curtailment5'],\n",
       " 'vre_curtailment_w5s6': ['wind_curtailment5', 'solar_curtailment6'],\n",
       " 'vre_curtailment_w6s1': ['wind_curtailment6', 'solar_curtailment1'],\n",
       " 'vre_curtailment_w6s2': ['wind_curtailment6', 'solar_curtailment2'],\n",
       " 'vre_curtailment_w6s3': ['wind_curtailment6', 'solar_curtailment3'],\n",
       " 'vre_curtailment_w6s4': ['wind_curtailment6', 'solar_curtailment4'],\n",
       " 'vre_curtailment_w6s5': ['wind_curtailment6', 'solar_curtailment5'],\n",
       " 'vre_curtailment_w7s1': ['wind_curtailment7', 'solar_curtailment1'],\n",
       " 'vre_curtailment_w7s2': ['wind_curtailment7', 'solar_curtailment2'],\n",
       " 'vre_curtailment_w7s3': ['wind_curtailment7', 'solar_curtailment3']}"
      ]
     },
     "execution_count": 31,
     "metadata": {},
     "output_type": "execute_result"
    }
   ],
   "source": [
    " new_bins"
   ]
  },
  {
   "cell_type": "code",
   "execution_count": 22,
   "metadata": {},
   "outputs": [
    {
     "ename": "AttributeError",
     "evalue": "'str' object has no attribute 'keys'",
     "output_type": "error",
     "traceback": [
      "\u001b[1;31m---------------------------------------------------------------------------\u001b[0m",
      "\u001b[1;31mAttributeError\u001b[0m                            Traceback (most recent call last)",
      "Cell \u001b[1;32mIn[22], line 5\u001b[0m\n\u001b[0;32m      1\u001b[0m sc\u001b[38;5;241m.\u001b[39madd_set(\u001b[38;5;124m\"\u001b[39m\u001b[38;5;124mrelation\u001b[39m\u001b[38;5;124m\"\u001b[39m, new_bins\u001b[38;5;241m.\u001b[39mkeys())\n\u001b[0;32m      3\u001b[0m \u001b[38;5;28;01mfor\u001b[39;00m rel_new, region \u001b[38;5;129;01min\u001b[39;00m product(\u001b[38;5;28msorted\u001b[39m(new_bins\u001b[38;5;241m.\u001b[39mkeys()), regions):\n\u001b[0;32m      4\u001b[0m     \u001b[38;5;66;03m# Relevant wind/solar relations\u001b[39;00m\n\u001b[1;32m----> 5\u001b[0m     relations \u001b[38;5;241m=\u001b[39m [x \u001b[38;5;28;01mfor\u001b[39;00m x, y \u001b[38;5;129;01min\u001b[39;00m curt_relation_tech\u001b[38;5;241m.\u001b[39mitems() \u001b[38;5;28;01mif\u001b[39;00m y \u001b[38;5;129;01min\u001b[39;00m new_bins[rel_new][\u001b[38;5;241m0\u001b[39m]\u001b[38;5;241m.\u001b[39mkeys()]\n\u001b[0;32m      7\u001b[0m     \u001b[38;5;66;03m# Load the old data of contributors and use the average of solar and wind\u001b[39;00m\n\u001b[0;32m      8\u001b[0m     \u001b[38;5;66;03m# TODO: The contributions must come from PyPSA. At the moment, the old values are\u001b[39;00m\n\u001b[0;32m      9\u001b[0m     \u001b[38;5;66;03m# used for illustration\u001b[39;00m\n\u001b[0;32m     10\u001b[0m     old \u001b[38;5;241m=\u001b[39m sc\u001b[38;5;241m.\u001b[39mpar(parname, {\u001b[38;5;124m\"\u001b[39m\u001b[38;5;124mnode_loc\u001b[39m\u001b[38;5;124m\"\u001b[39m: region, \u001b[38;5;124m\"\u001b[39m\u001b[38;5;124mrelation\u001b[39m\u001b[38;5;124m\"\u001b[39m: relations})\n",
      "Cell \u001b[1;32mIn[22], line 5\u001b[0m, in \u001b[0;36m<listcomp>\u001b[1;34m(.0)\u001b[0m\n\u001b[0;32m      1\u001b[0m sc\u001b[38;5;241m.\u001b[39madd_set(\u001b[38;5;124m\"\u001b[39m\u001b[38;5;124mrelation\u001b[39m\u001b[38;5;124m\"\u001b[39m, new_bins\u001b[38;5;241m.\u001b[39mkeys())\n\u001b[0;32m      3\u001b[0m \u001b[38;5;28;01mfor\u001b[39;00m rel_new, region \u001b[38;5;129;01min\u001b[39;00m product(\u001b[38;5;28msorted\u001b[39m(new_bins\u001b[38;5;241m.\u001b[39mkeys()), regions):\n\u001b[0;32m      4\u001b[0m     \u001b[38;5;66;03m# Relevant wind/solar relations\u001b[39;00m\n\u001b[1;32m----> 5\u001b[0m     relations \u001b[38;5;241m=\u001b[39m [x \u001b[38;5;28;01mfor\u001b[39;00m x, y \u001b[38;5;129;01min\u001b[39;00m curt_relation_tech\u001b[38;5;241m.\u001b[39mitems() \u001b[38;5;28;01mif\u001b[39;00m y \u001b[38;5;129;01min\u001b[39;00m \u001b[43mnew_bins\u001b[49m\u001b[43m[\u001b[49m\u001b[43mrel_new\u001b[49m\u001b[43m]\u001b[49m\u001b[43m[\u001b[49m\u001b[38;5;241;43m0\u001b[39;49m\u001b[43m]\u001b[49m\u001b[38;5;241;43m.\u001b[39;49m\u001b[43mkeys\u001b[49m()]\n\u001b[0;32m      7\u001b[0m     \u001b[38;5;66;03m# Load the old data of contributors and use the average of solar and wind\u001b[39;00m\n\u001b[0;32m      8\u001b[0m     \u001b[38;5;66;03m# TODO: The contributions must come from PyPSA. At the moment, the old values are\u001b[39;00m\n\u001b[0;32m      9\u001b[0m     \u001b[38;5;66;03m# used for illustration\u001b[39;00m\n\u001b[0;32m     10\u001b[0m     old \u001b[38;5;241m=\u001b[39m sc\u001b[38;5;241m.\u001b[39mpar(parname, {\u001b[38;5;124m\"\u001b[39m\u001b[38;5;124mnode_loc\u001b[39m\u001b[38;5;124m\"\u001b[39m: region, \u001b[38;5;124m\"\u001b[39m\u001b[38;5;124mrelation\u001b[39m\u001b[38;5;124m\"\u001b[39m: relations})\n",
      "\u001b[1;31mAttributeError\u001b[0m: 'str' object has no attribute 'keys'"
     ]
    }
   ],
   "source": [
    "sc.add_set(\"relation\", new_bins.keys())\n",
    "\n",
    "for rel_new, region in product(sorted(new_bins.keys()), regions):\n",
    "    # Relevant wind/solar relations\n",
    "    relations = [x for x, y in curt_relation_tech.items() if y in new_bins[rel_new][0].keys()]\n",
    "\n",
    "    # Load the old data of contributors and use the average of solar and wind\n",
    "    # TODO: The contributions must come from PyPSA. At the moment, the old values are\n",
    "    # used for illustration\n",
    "    old = sc.par(parname, {\"node_loc\": region, \"relation\": relations})\n",
    "    if old.empty:\n",
    "        continue\n",
    "\n",
    "    # Keep only contributor and curtailment technologies\n",
    "    # This does not need VRE generation and electricity grid, as the curtailment\n",
    "    # bins as % of the grid were calculated in step (3) and here we use them\n",
    "    techs = [x for x in set(old[\"technology\"]) if\n",
    "             not any([y in x for y in [\"wind_r\", \"solar_r\", \"elec_t_d\"]])]\n",
    "    new = old.loc[old[\"technology\"].isin(techs)].copy()\n",
    "\n",
    "    # Group by technology and take the average of contributors values for solar and\n",
    "    # wind for this VRE bin (e.g., if storage has 0.2 for wind, 0.1 for solar,\n",
    "    # average(0.2 , 0.1) = 0.15 will be used for this VRE bin)\n",
    "    new = new.groupby(\n",
    "        [\"node_rel\", \"node_loc\", \"mode\", \"technology\", \"year_rel\", \"year_act\"]\n",
    "                      ).mean(numeric_only=True)\n",
    "    new = new.assign(relation=rel_new, unit=\"GWa\").reset_index()\n",
    "\n",
    "    # Change the sign of curtailment techs to (+1) to equalize them with contributors\n",
    "    new.loc[new[\"technology\"].isin(new_bins[rel_new]), \"value\"] = 1\n",
    "\n",
    "    # Add the new equation for the VRE curtailment bin to the scenario\n",
    "    sc.add_par(parname, new)\n",
    "\n",
    "    # Add an upper bound for the new relation\n",
    "    bound = new.drop_duplicates([\"node_rel\", \"year_rel\", \"relation\"]).copy()\n",
    "    bound[\"value\"] = 0\n",
    "    sc.add_par(\"relation_upper\", bound)\n",
    "\n",
    "    # If treating input electricity at the VRE level (combination of solar-wind bins)\n",
    "    \n",
    "    # Relevant VRE technology\n",
    "    tech_new = (\"_\").join(rel_new.split(\"_\")[:2]) + rel_new.split(\"_\")[2]\n",
    "    \n",
    "    # Add new VRE technology to the scenario\n",
    "    sc.add_set(\"technology\", tech_new)\n",
    "    \n",
    "    # Add VRE technology to this curtailment relation\n",
    "    vre = new.loc[new[\"technology\"].isin(new_bins[rel_new])]\n",
    "    \n",
    "    # Change the sign of VRE curtailment value to (-)\n",
    "    # VRE curtailment is equal to the unmet curtailment of wind and solar, i.e.:\n",
    "    # wind_curtail + solar_curtail <= storage (all contributors) + VRE_curtail\n",
    "    vre = vre.assign(technology=tech_new, \n",
    "                     value=-1)\n",
    "    \n",
    "    sc.add_par(parname, vre)\n",
    "\n",
    "    # Add \"input\" electricity for this VRE technology\n",
    "    # Load sample data and copy it for each bin\n",
    "    # if include_vre_input_loss:\n",
    "    inp = sc.par(\"input\", {\"node_loc\": region,\n",
    "                            \"technology\": \"solar_curtailment1\"})\n",
    "    \n",
    "    # Add values for curtailed electricity at each combination of wind and solar\n",
    "    # TODO: These values should come from PyPSA\n",
    "    \n",
    "    inp = inp.assign(technology=tech_new, \n",
    "                        value=1) #input_electr[rel_new])\n",
    "    \n",
    "    sc.add_par(\"input\", inp)\n",
    "\n",
    "print(\"- New VRE curtailment relations configured.\")\n"
   ]
  },
  {
   "cell_type": "code",
   "execution_count": null,
   "metadata": {},
   "outputs": [],
   "source": [
    "df_relation_activity = sc.par(\"relation_activity\")\n",
    "print(df_relation_activity.query(\"relation == 'vre_curtailment_w6s2'\").query(\"year_act == 2050\"))"
   ]
  },
  {
   "cell_type": "markdown",
   "metadata": {},
   "source": [
    "Remove the contributor technologies from theoretical relations:"
   ]
  },
  {
   "cell_type": "code",
   "execution_count": null,
   "metadata": {},
   "outputs": [
    {
     "name": "stdout",
     "output_type": "stream",
     "text": [
      "Solving scenario \"MESSAGEix-GLOBIOM__ENGAGE_SSP2_EN_NPi2020_500__v9\", please wait...!\n"
     ]
    }
   ],
   "source": [
    "# Since they are already added to new VRE relations, the contributor technologies are removed from the theoretical relations\n",
    "for rel, region in product(sorted(bins_dict.keys()), regions):\n",
    "    # Load existing data\n",
    "    df = sc.par(parname, {\"node_loc\": region, \"relation\": rel})\n",
    "    contributors = [x for x in set(df[\"technology\"]) if\n",
    "                    not any([y in x for y in [\"wind\", \"solar\", \"elec_t_d\"]])]\n",
    "    df = df.loc[df[\"technology\"].isin(contributors)].copy()\n",
    "    # Remove contributors from theoretical relations\n",
    "    sc.remove_par(parname, df)\n",
    "\n",
    "    # Removing input electricity from wind and solar\n",
    "    # inp = sc.par(\"input\", {\"node_loc\": region, \"technology\": curt_relation_tech[rel]})\n",
    "    # sc.remove_par(\"input\", inp)\n",
    "\n",
    "sc.commit(\"Curtailment updated\")"
   ]
  },
  {
   "cell_type": "markdown",
   "metadata": {},
   "source": [
    "### Solve scenario"
   ]
  },
  {
   "cell_type": "code",
   "execution_count": null,
   "metadata": {},
   "outputs": [],
   "source": [
    "if solve_scenario:\n",
    "    case = sc.model + '__' + sc.scenario + '__v' + str(sc.version)\n",
    "    print(f'Solving scenario \"{case}\", please wait...!')\n",
    "\n",
    "    start = timer()\n",
    "    sc.solve(model='MESSAGE', case=case)\n",
    "    end = timer()\n",
    "    print('Elapsed time for solving scenario:', int((end - start)/60),\n",
    "          'min and', round((end - start) % 60, 2), 'sec.')\n",
    "    sc.set_as_default()\n"
   ]
  },
  {
   "cell_type": "code",
   "execution_count": null,
   "metadata": {},
   "outputs": [],
   "source": [
    "mp.close_db()"
   ]
  }
 ],
 "metadata": {
  "kernelspec": {
   "display_name": "message_env",
   "language": "python",
   "name": "python3"
  },
  "language_info": {
   "codemirror_mode": {
    "name": "ipython",
    "version": 3
   },
   "file_extension": ".py",
   "mimetype": "text/x-python",
   "name": "python",
   "nbconvert_exporter": "python",
   "pygments_lexer": "ipython3",
   "version": "3.10.8"
  }
 },
 "nbformat": 4,
 "nbformat_minor": 2
}
