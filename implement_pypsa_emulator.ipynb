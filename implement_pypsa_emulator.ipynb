{
 "cells": [
  {
   "cell_type": "code",
   "execution_count": null,
   "metadata": {},
   "outputs": [
    {
     "data": {
      "application/javascript": "if (typeof IPython !== 'undefined') { IPython.OutputArea.prototype._should_scroll = function(lines){ return false; }}",
      "text/plain": [
       "<IPython.core.display.Javascript object>"
      ]
     },
     "metadata": {},
     "output_type": "display_data"
    }
   ],
   "source": [
    "import message_ix\n",
    "import ixmp as ix\n",
    "from message_ix.utils import make_df\n",
    "from itertools import product\n",
    "from timeit import default_timer as timer\n",
    "import pandas as pd\n",
    "import numpy as np\n",
    "import warnings\n",
    "warnings.filterwarnings('ignore')\n",
    "\n",
    "import matplotlib.pyplot as plt\n",
    "fs = 24\n",
    "plt.style.use('seaborn-ticks')\n",
    "plt.rcParams['axes.labelsize'] = fs\n",
    "plt.rcParams['xtick.labelsize'] = fs\n",
    "plt.rcParams['ytick.labelsize'] = fs\n",
    "plt.rcParams['xtick.direction'] = 'out'\n",
    "plt.rcParams['ytick.direction'] = 'out'\n",
    "plt.rcParams['axes.axisbelow'] = True\n"
   ]
  },
  {
   "cell_type": "markdown",
   "metadata": {},
   "source": [
    "### Steps taken:\n",
    "1. Read curtailment parameters derived from PyPSA-Eur\n",
    "2. Load scenario in MESSAGEix-GLOBIOM\n",
    "3. Technology linkage (adding SDES and LDES)\n",
    "4. Add curtailment technologies and relations to the scenario\n",
    "5. Solve scenario"
   ]
  },
  {
   "cell_type": "markdown",
   "metadata": {},
   "source": [
    "### Step 1) fetch curtailment parameters"
   ]
  },
  {
   "cell_type": "markdown",
   "metadata": {},
   "source": [
    "1.1 Read data and define dictionaries:"
   ]
  },
  {
   "cell_type": "code",
   "execution_count": null,
   "metadata": {},
   "outputs": [],
   "source": [
    "# gamma coefficients (marginal curtailment rates)\n",
    "path = \"parameters/\"\n",
    "gamma_ij_wind = pd.read_csv(path + \"gamma_ij_wind_primary.csv\",index_col=0).dropna()\n",
    "gamma_ij_solar = pd.read_csv(path + \"gamma_ij_solar_primary.csv\",index_col=0).dropna()\n",
    "\n",
    "# beta coefficients (counter acting term from renewable integration support measures)\n",
    "techs = [\"LDES\",\"SDES\"] \n",
    "beta_tech_wind = {}\n",
    "beta_tech_solar = {}\n",
    "for tech in techs:\n",
    "    beta_tech_wind[tech] = pd.read_csv(path + \"beta_\"+tech+\"_wind.csv\",index_col=0).dropna()\n",
    "    beta_tech_solar[tech] = pd.read_csv(path + \"beta_\"+tech+\"_wind.csv\",index_col=0).dropna()\n",
    "\n",
    "# renewable shares\n",
    "wind_shares_pypsa = pd.read_csv(path + \"wind_shares.csv\",index_col=0).loc[gamma_ij_wind.index]\n",
    "solar_shares_pypsa = pd.read_csv(path + \"solar_shares.csv\",index_col=0).loc[gamma_ij_solar.index]\n",
    "\n",
    "# create a dictionary with all the data\n",
    "gamma_dict = gamma_ij_solar.to_dict()[\"0\"]\n",
    "gamma_wind_dict = gamma_ij_wind.to_dict()[\"0\"]\n",
    "gamma_dict.update(gamma_wind_dict) # dictionary containing all gamma coefficients\n",
    "\n",
    "beta_dict = {}\n",
    "for tech in techs:\n",
    "    beta_dict[tech] = beta_tech_wind[tech].to_dict()[\"0\"]\n",
    "\n",
    "renewable_penetration_dict = solar_shares_pypsa.to_dict()[\"0\"]\n",
    "wind_penetration = wind_shares_pypsa.to_dict()[\"0\"]\n",
    "renewable_penetration_dict.update(wind_penetration)"
   ]
  },
  {
   "cell_type": "markdown",
   "metadata": {},
   "source": [
    "Initialize relations:"
   ]
  },
  {
   "cell_type": "code",
   "execution_count": null,
   "metadata": {},
   "outputs": [
    {
     "name": "stdout",
     "output_type": "stream",
     "text": [
      "{'vre_curtailment_w1s1': [{'wind_curtailment1': 0.0037371249171338, 'solar_curtailment1': 0.002290072586197}], 'vre_curtailment_w1s2': [{'wind_curtailment1': 0.0276494369460103, 'solar_curtailment2': 0.2527864681633947}], 'vre_curtailment_w1s3': [{'wind_curtailment1': 0.0097918369226165, 'solar_curtailment3': 0.4818535505889985}], 'vre_curtailment_w1s4': [{'wind_curtailment1': 0.0010403098686803, 'solar_curtailment4': 0.1559578472451435}], 'vre_curtailment_w1s5': [{'wind_curtailment1': -0.001500484208699, 'solar_curtailment5': 0.0701529611080714}]}\n",
      "{'solar_curtailment_1': 'solar_curtailment1', 'solar_curtailment_2': 'solar_curtailment2', 'solar_curtailment_3': 'solar_curtailment3', 'solar_curtailment_4': 'solar_curtailment4', 'solar_curtailment_5': 'solar_curtailment5'}\n"
     ]
    }
   ],
   "source": [
    "# number of bins (determined from the PyPSA-Eur data):\n",
    "bins = list(set(renewable_penetration_dict.values()))\n",
    "bins.sort()\n",
    "\n",
    "bins_dict = {}\n",
    "curt_relation = {} # i = solar, j = wind\n",
    "curt_relation_tech = {}\n",
    "new_bins = {}\n",
    "prefix = \"vre\" # prefix of relation name\n",
    "for i in range(len(bins)): # wind index\n",
    "    for j in range(len(bins)): # solar index\n",
    "        \n",
    "        w = \"wind_curtailment_w\" + str(i) + \"s\" + str(j) # index naming in the data achieved from PyPSA-Eur\n",
    "        s = \"solar_curtailment_s\" + str(j) + \"w\" + str(i) # index naming in the data achieved from PyPSA-Eur\n",
    "\n",
    "        wind_curt_name = \"wind_curtailment\" + str(i+1) # naming of wind curtailment technology in MESSAGEix-GLOBIOM\n",
    "        solar_curt_name = \"solar_curtailment\" + str(j+1) # naming of solar curtailment technology in MESSAGEix-GLOBIOM\n",
    "        # we shift the index naming by one, since the index in PyPSA-Eur starts with 0, but in MESSAGEix-GLOBIOM with 1\n",
    "\n",
    "        if (w not in gamma_ij_wind.index) and (s not in gamma_ij_solar.index): \n",
    "            continue\n",
    "        \n",
    "        new_bins[prefix + \"_curtailment_w\" + str(i+1) + \"s\" + str(j+1)] = [wind_curt_name, solar_curt_name]\n",
    "        \n",
    "        curt_relation[prefix + \"_curtailment_w\" + str(i+1) + \"s\" + str(j+1)] = [{wind_curt_name:gamma_ij_wind.loc[w].item(),\n",
    "                                                                                solar_curt_name:gamma_ij_solar.loc[s].item()}]\n",
    "        \n",
    "        if j == 0:\n",
    "            curt_relation_tech[\"wind_curtailment_\" + str(i+1)] = wind_curt_name\n",
    "            bins_dict[\"wind_curtailment_\" + str(i+1)] = bins[i]\n",
    "        \n",
    "        if i == 0:\n",
    "            curt_relation_tech[\"solar_curtailment_\" + str(j+1)] = solar_curt_name\n",
    "            bins_dict[\"solar_curtailment_\" + str(j+1)] = bins[j]\n",
    "\n",
    "curt_relation_tech = {k: curt_relation_tech[k] for k in sorted(curt_relation_tech)}\n",
    "\n",
    "# print first five entries of the dictionaries\n",
    "print({k: curt_relation[k] for k in list(curt_relation)[:5]})\n",
    "print({k: curt_relation_tech[k] for k in list(curt_relation_tech)[:5]})"
   ]
  },
  {
   "cell_type": "markdown",
   "metadata": {},
   "source": [
    "### Step 2) load scenario in MESSAGEix-GLOBIOM"
   ]
  },
  {
   "cell_type": "code",
   "execution_count": null,
   "metadata": {},
   "outputs": [],
   "source": [
    "# load ixmp database\n",
    "mp = ix.Platform('local',jvmargs=[\"-Xmx8G\"])\n",
    "solve_scenario = True # if True, solving scenario at the end\n",
    "regions = [\"R11_WEU\"]\n",
    "\n",
    "# reference scenario: \n",
    "sc_ref = message_ix.Scenario(mp, model=\"MESSAGEix-GLOBIOM\", scenario=\"ENGAGE_SSP2_EN_NPi2020_500\",version=1)\n",
    "model = \"MESSAGEix-GLOBIOM\"\n",
    "scen = \"ENGAGE_SSP2_EN_NPi2020_500\"\n",
    "\n",
    "# clone scenario and add modifications\n",
    "sc = sc_ref.clone(model=model, scenario=scen, keep_solution=False)\n",
    "\n",
    "sc.check_out()\n",
    "\n",
    "years = sc.set('year')"
   ]
  },
  {
   "cell_type": "markdown",
   "metadata": {},
   "source": [
    "### Step 3) Technology linkage\n",
    "\n",
    "**LDES**\n",
    "- duration (E/G_d): 179.6 hrs (average of all scenarios)\n",
    "- Efficiency (round-trip): 0.48\n",
    "- Technology cost: \n",
    "    - Charge link: 450 EUR/kW (+ 2% FOM)\n",
    "    - Storage: 12 EUR/kWh (+ 2% FOM)\n",
    "    - Discharge link: 500 EUR/kW (+ 2% FOM) \n",
    "    Aggregated cost: 1/efficiency * 450 EUR/kW + duration * 12 EUR/kWh + 500 EUR/kW = 3,593 EUR/kW\n",
    "- Capacity factor: 20.5%\n",
    "- Lifetime: 20 years\n",
    "\n",
    "**SDES**\n",
    "- duration (E/G_d): 6 hrs\n",
    "- Efficiency (round-trip): 0.94\n",
    "- Technology cost: \n",
    "    - Charge link (battery inverter/converter): 160 EUR/kW\n",
    "    - Storage: 142 EUR/kWh\n",
    "    - Discharge link: 0 EUR/kW\n",
    "    Aggregated cost: 1/effficiency * 160 EUR/kW + duration * 142 EUR/kWh + 0 EUR/kW = 1,022 EUR/kW\n",
    "- Capacity factor: 11.9%\n",
    "- Lifetime: 25 years\n",
    "\n",
    "\n",
    "In MESSAGEix-GLOBIOM, the storage tech needs to have the following attributes defined:\n",
    "- output (par)\n",
    "- inv_cost (par)\n",
    "- technology (set)\n",
    "- var_cost (par)\n",
    "- technical_lifetime (par)\n",
    "- capacity_factor (par)"
   ]
  },
  {
   "cell_type": "markdown",
   "metadata": {},
   "source": [
    "Storage technology attributes from PyPSA-Eur:"
   ]
  },
  {
   "cell_type": "code",
   "execution_count": null,
   "metadata": {},
   "outputs": [],
   "source": [
    "ldes_inv_cost = 3593 # EUR/kW\n",
    "sdes_inv_cost = 1022 # EUR/kW\n",
    "\n",
    "ldes_lifetime = 20 # years\n",
    "sdes_lifetime = 25 # years\n",
    "\n",
    "ldes_capacity_factor = 0.205\n",
    "sdes_capacity_factor = 0.119"
   ]
  },
  {
   "cell_type": "markdown",
   "metadata": {},
   "source": [
    "Define pandas dataframes with storage attributes:"
   ]
  },
  {
   "cell_type": "code",
   "execution_count": null,
   "metadata": {},
   "outputs": [],
   "source": [
    "df_ldes_output = make_df('output',\n",
    "                        node_loc = \"R11_WEU\",\n",
    "                        technology = \"LDES\",\n",
    "                        year_vtg = years,\n",
    "                        year_act = years,\n",
    "                        mode = \"M1\",\n",
    "                        node_dest = 'R11_WEU',\n",
    "                        commodity = 'exports',\n",
    "                        level = \"secondary\",\n",
    "                        time = \"year\",\n",
    "                        time_dest = \"year\",\n",
    "                        value = 1,\n",
    "                        unit = \"GWa\",\n",
    "                        )\n",
    "\n",
    "df_ldes_CF = make_df('capacity_factor',\n",
    "                        node_loc = \"R11_WEU\",\n",
    "                        technology = \"LDES\",\n",
    "                        year_vtg = years,\n",
    "                        year_act = years,\n",
    "                        time = \"year\",\n",
    "                        value = ldes_capacity_factor,\n",
    "                        unit = \"%\",\n",
    "                        )\n",
    "\n",
    "df_ldes_inv_cost = make_df('inv_cost',\n",
    "                           node_loc=\"R11_WEU\",\n",
    "                           technology=\"LDES\",\n",
    "                           year_vtg=years,\n",
    "                           value=ldes_inv_cost,\n",
    "                           unit=\"USD/GWa\",\n",
    "                           )\n",
    "\n",
    "df_ldes_lifetime = make_df('technical_lifetime',\n",
    "                           node_loc=\"R11_WEU\",\n",
    "                           technology=\"LDES\",\n",
    "                           year_vtg=years,\n",
    "                           value=ldes_lifetime,\n",
    "                           unit=\"y\")\n",
    "\n",
    "# sc.idx_names('capacity_factor')"
   ]
  },
  {
   "cell_type": "markdown",
   "metadata": {},
   "source": [
    "Add storage attributes:"
   ]
  },
  {
   "cell_type": "code",
   "execution_count": null,
   "metadata": {},
   "outputs": [],
   "source": [
    "tech = \"LDES\"\n",
    "sc.add_set(\"technology\", tech)\n",
    "sc.add_par('output',df_ldes_output)\n",
    "sc.add_par(\"capacity_factor\", df_ldes_CF)\n",
    "sc.add_par('inv_cost',df_ldes_inv_cost)\n",
    "sc.add_par('technical_lifetime',df_ldes_lifetime)"
   ]
  },
  {
   "cell_type": "markdown",
   "metadata": {},
   "source": [
    "Repeat for SDES ..."
   ]
  },
  {
   "cell_type": "markdown",
   "metadata": {},
   "source": [
    "### Step 4) Add curtailment technologies and relations to the scenario"
   ]
  },
  {
   "cell_type": "code",
   "execution_count": null,
   "metadata": {},
   "outputs": [],
   "source": [
    "# Curtailment relations and technologies (for checking)\n",
    "curtail_relations = [x for x in set(sc.set(\"relation\")) if \"curtailment\" in x]\n",
    "curtail_techs = [x for x in set(sc.set(\"technology\")) if \"curtailment\" in x]\n",
    "\n",
    "# Add wind/solar curtailment data for new bins (not present in the old data)\n",
    "new_relations = [x for x in bins_dict.keys() if x not in set(sc.set(\"relation\"))]\n",
    "new_techs = [curt_relation_tech[x] for x in new_relations]\n",
    "\n",
    "# Add new set elements to the scenario\n",
    "sc.add_set(\"technology\", new_techs) # here, new technologies cover the ones for \"wind_curtailment_{}\" and \"solar_curtailment_{}\".\n",
    "sc.add_set(\"relation\", new_relations) # here, new relations cover the ones for \"wind_curtailment_{}\" and \"solar_curtailment_{}\"."
   ]
  },
  {
   "cell_type": "markdown",
   "metadata": {},
   "source": [
    "Base curtailment:"
   ]
  },
  {
   "cell_type": "code",
   "execution_count": null,
   "metadata": {},
   "outputs": [
    {
     "name": "stdout",
     "output_type": "stream",
     "text": [
      "- New theoretical curtailment relations configured.\n"
     ]
    }
   ],
   "source": [
    "# In this step, we calculate the base curtailment, i.e., we don't consider\n",
    "# the role of any curtailment-reducing technologies (contributors) like storage etc.\n",
    "parname = \"relation_activity\"\n",
    "for rel, region in product(sorted(bins_dict.keys()), regions):\n",
    "    # Load existing data (and use it later for configuring the new data)\n",
    "    old = sc_ref.par(parname, {\"node_loc\": region, \n",
    "                               \"relation\": rel})\n",
    "\n",
    "    # If there is no data for this bin, use the data of the previous bin\n",
    "    if old.empty:\n",
    "        rel_pre = (\"\").join(\n",
    "            [rel.split(\"_curt\")[0],\n",
    "             \"_curtailment_\",\n",
    "             str(int(rel.split(\"ment_\")[1]) - 1)]\n",
    "            )\n",
    "        old = sc_ref.par(parname, {\"node_loc\": region, \"relation\": rel_pre})\n",
    "\n",
    "        # Replace relation and technology names for this bin\n",
    "        curtail_tec = curt_relation_tech[rel_pre]\n",
    "        old[\"relation\"] = rel\n",
    "        old.loc[old[\"technology\"] == curtail_tec, \"technology\"] = curt_relation_tech[rel]\n",
    "\n",
    "    else:\n",
    "        curtail_tec = curt_relation_tech[rel]\n",
    "        \n",
    "    # Generate theoretical curtailment bins (with contributor technologies, but\n",
    "    # these will be removed at the end, see Step (5))\n",
    "    new = old.copy()\n",
    "    # Edit the % share of wind/solar bins (Notice (-) sign)\n",
    "    new.loc[new[\"technology\"] == \"elec_t_d\", \"value\"] = -bins_dict[rel]\n",
    "\n",
    "    # Add theoretical curtailment to the scenario\n",
    "    sc.add_par(parname, new)\n",
    "\n",
    "    # Add an upper bound for the theoretical curtailment (needed for new bins)\n",
    "    bound = new.drop_duplicates([\"node_rel\", \"year_rel\", \"relation\"]).copy()\n",
    "    bound[\"value\"] = 0\n",
    "    sc.add_par(\"relation_upper\", bound)\n",
    "\n",
    "    # Update the data of \"input\" electricity for this curtailment technology\n",
    "    inp = sc.par(\"input\", {\"node_loc\": region, \"technology\": curtail_tec})\n",
    "    inp[\"technology\"] = curt_relation_tech[rel] # is needed in case a new bin is added\n",
    "    inp[\"value\"] = 1\n",
    "    sc.add_par(\"input\", inp)\n",
    "print(\"- New theoretical curtailment relations configured.\")\n"
   ]
  },
  {
   "cell_type": "code",
   "execution_count": null,
   "metadata": {},
   "outputs": [
    {
     "data": {
      "text/plain": [
       "{'solar_curtailment_1': 'solar_curtailment1',\n",
       " 'solar_curtailment_2': 'solar_curtailment2',\n",
       " 'solar_curtailment_3': 'solar_curtailment3',\n",
       " 'solar_curtailment_4': 'solar_curtailment4',\n",
       " 'solar_curtailment_5': 'solar_curtailment5',\n",
       " 'solar_curtailment_6': 'solar_curtailment6',\n",
       " 'solar_curtailment_7': 'solar_curtailment7',\n",
       " 'wind_curtailment_1': 'wind_curtailment1',\n",
       " 'wind_curtailment_2': 'wind_curtailment2',\n",
       " 'wind_curtailment_3': 'wind_curtailment3',\n",
       " 'wind_curtailment_4': 'wind_curtailment4',\n",
       " 'wind_curtailment_5': 'wind_curtailment5',\n",
       " 'wind_curtailment_6': 'wind_curtailment6',\n",
       " 'wind_curtailment_7': 'wind_curtailment7'}"
      ]
     },
     "metadata": {},
     "output_type": "display_data"
    }
   ],
   "source": [
    "curt_relation_tech"
   ]
  },
  {
   "cell_type": "markdown",
   "metadata": {},
   "source": [
    "Add new bins to the set of relations and respective technologies to technology:"
   ]
  },
  {
   "cell_type": "code",
   "execution_count": null,
   "metadata": {},
   "outputs": [
    {
     "name": "stdout",
     "output_type": "stream",
     "text": [
      "- New VRE curtailment relations configured.\n"
     ]
    }
   ],
   "source": [
    "sc.add_set(\"relation\", new_bins.keys())\n",
    "\n",
    "for rel_new, region in product(sorted(new_bins.keys()), regions):\n",
    "    # Relevant wind/solar relations\n",
    "    relations = [x for x, y in curt_relation_tech.items() if y in new_bins[rel_new][0].keys()]\n",
    "\n",
    "    # Load the old data of contributors and use the average of solar and wind\n",
    "    # TODO: The contributions must come from PyPSA. At the moment, the old values are\n",
    "    # used for illustration\n",
    "    old = sc.par(parname, {\"node_loc\": region, \"relation\": relations})\n",
    "    if old.empty:\n",
    "        continue\n",
    "\n",
    "    # Keep only contributor and curtailment technologies\n",
    "    # This does not need VRE generation and electricity grid, as the curtailment\n",
    "    # bins as % of the grid were calculated in step (3) and here we use them\n",
    "    techs = [x for x in set(old[\"technology\"]) if\n",
    "             not any([y in x for y in [\"wind_r\", \"solar_r\", \"elec_t_d\"]])]\n",
    "    new = old.loc[old[\"technology\"].isin(techs)].copy()\n",
    "\n",
    "    # Group by technology and take the average of contributors values for solar and\n",
    "    # wind for this VRE bin (e.g., if storage has 0.2 for wind, 0.1 for solar,\n",
    "    # average(0.2 , 0.1) = 0.15 will be used for this VRE bin)\n",
    "    new = new.groupby(\n",
    "        [\"node_rel\", \"node_loc\", \"mode\", \"technology\", \"year_rel\", \"year_act\"]\n",
    "                      ).mean(numeric_only=True)\n",
    "    new = new.assign(relation=rel_new, unit=\"GWa\").reset_index()\n",
    "\n",
    "    # Change the sign of curtailment techs to (+1) to equalize them with contributors\n",
    "    new.loc[new[\"technology\"].isin(new_bins[rel_new]), \"value\"] = 1\n",
    "\n",
    "    # Add the new equation for the VRE curtailment bin to the scenario\n",
    "    sc.add_par(parname, new)\n",
    "\n",
    "    # Add an upper bound for the new relation\n",
    "    bound = new.drop_duplicates([\"node_rel\", \"year_rel\", \"relation\"]).copy()\n",
    "    bound[\"value\"] = 0\n",
    "    sc.add_par(\"relation_upper\", bound)\n",
    "\n",
    "    # If treating input electricity at the VRE level (combination of solar-wind bins)\n",
    "    \n",
    "    # Relevant VRE technology\n",
    "    tech_new = (\"_\").join(rel_new.split(\"_\")[:2]) + rel_new.split(\"_\")[2]\n",
    "    \n",
    "    # Add new VRE technology to the scenario\n",
    "    sc.add_set(\"technology\", tech_new)\n",
    "    \n",
    "    # Add VRE technology to this curtailment relation\n",
    "    vre = new.loc[new[\"technology\"].isin(new_bins[rel_new])]\n",
    "    \n",
    "    # Change the sign of VRE curtailment value to (-)\n",
    "    # VRE curtailment is equal to the unmet curtailment of wind and solar, i.e.:\n",
    "    # wind_curtail + solar_curtail <= storage (all contributors) + VRE_curtail\n",
    "    vre = vre.assign(technology=tech_new, value=-1)\n",
    "    sc.add_par(parname, vre)\n",
    "\n",
    "    # Add \"input\" electricity for this VRE technology\n",
    "    # Load sample data and copy it for each bin\n",
    "    # if include_vre_input_loss:\n",
    "    inp = sc.par(\"input\", {\"node_loc\": region,\n",
    "                            \"technology\": \"solar_curtailment1\"})\n",
    "    \n",
    "    # Add values for curtailed electricity at each combination of wind and solar\n",
    "    # TODO: These values should come from PyPSA\n",
    "    \n",
    "    inp = inp.assign(technology=tech_new, \n",
    "                        value=1) #input_electr[rel_new])\n",
    "    \n",
    "    sc.add_par(\"input\", inp)\n",
    "\n",
    "print(\"- New VRE curtailment relations configured.\")\n"
   ]
  },
  {
   "cell_type": "code",
   "execution_count": null,
   "metadata": {},
   "outputs": [],
   "source": [
    "df_relation_activity = sc.par(\"relation_activity\")\n",
    "print(df_relation_activity.query(\"relation == 'vre_curtailment_w6s2'\").query(\"year_act == 2050\"))"
   ]
  },
  {
   "cell_type": "markdown",
   "metadata": {},
   "source": [
    "Remove the contributor technologies from theoretical relations:"
   ]
  },
  {
   "cell_type": "code",
   "execution_count": null,
   "metadata": {},
   "outputs": [
    {
     "name": "stdout",
     "output_type": "stream",
     "text": [
      "Solving scenario \"MESSAGEix-GLOBIOM__ENGAGE_SSP2_EN_NPi2020_500__v9\", please wait...!\n"
     ]
    }
   ],
   "source": [
    "# Since they are already added to new VRE relations, the contributor technologies are removed from the theoretical relations\n",
    "for rel, region in product(sorted(phi.keys()), regions):\n",
    "    # Load existing data\n",
    "    df = sc.par(parname, {\"node_loc\": region, \"relation\": rel})\n",
    "    contributors = [x for x in set(df[\"technology\"]) if\n",
    "                    not any([y in x for y in [\"wind\", \"solar\", \"elec_t_d\"]])]\n",
    "    df = df.loc[df[\"technology\"].isin(contributors)].copy()\n",
    "    # Remove contributors from theoretical relations\n",
    "    sc.remove_par(parname, df)\n",
    "\n",
    "    # Removing input electricity from wind and solar\n",
    "    if not keep_input_loss:\n",
    "        inp = sc.par(\"input\", {\"node_loc\": region, \"technology\": rel_tech[rel]})\n",
    "        sc.remove_par(\"input\", inp)\n",
    "\n",
    "sc.commit(\"Curtailment updated\")"
   ]
  },
  {
   "cell_type": "markdown",
   "metadata": {},
   "source": [
    "### Solve scenario"
   ]
  },
  {
   "cell_type": "code",
   "execution_count": null,
   "metadata": {},
   "outputs": [],
   "source": [
    "if solve_scenario:\n",
    "    case = sc.model + '__' + sc.scenario + '__v' + str(sc.version)\n",
    "    print(f'Solving scenario \"{case}\", please wait...!')\n",
    "\n",
    "    start = timer()\n",
    "    sc.solve(model='MESSAGE', case=case)\n",
    "    end = timer()\n",
    "    print('Elapsed time for solving scenario:', int((end - start)/60),\n",
    "          'min and', round((end - start) % 60, 2), 'sec.')\n",
    "    sc.set_as_default()\n"
   ]
  },
  {
   "cell_type": "code",
   "execution_count": null,
   "metadata": {},
   "outputs": [],
   "source": [
    "mp.close_db()"
   ]
  }
 ],
 "metadata": {
  "language_info": {
   "name": "python"
  }
 },
 "nbformat": 4,
 "nbformat_minor": 2
}
